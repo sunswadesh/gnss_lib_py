{
 "cells": [
  {
   "cell_type": "markdown",
   "id": "8f1f2cd2",
   "metadata": {},
   "source": [
    "# Rinex Navigation File Parsing"
   ]
  },
  {
   "cell_type": "markdown",
   "id": "e07e2118",
   "metadata": {},
   "source": [
    "[![Open In Colab](https://colab.research.google.com/assets/colab-badge.svg)](https://colab.research.google.com/github/Stanford-NavLab/gnss_lib_py/blob/main/notebooks/tutorials/parsers/rinex_nav.ipynb)"
   ]
  },
  {
   "cell_type": "markdown",
   "id": "d5632d85",
   "metadata": {},
   "source": [
    "Load `gnss_lib_py` into the Python workspace"
   ]
  },
  {
   "cell_type": "code",
   "execution_count": null,
   "id": "f7468fd3",
   "metadata": {},
   "outputs": [],
   "source": [
    "import gnss_lib_py as glp"
   ]
  },
  {
   "cell_type": "markdown",
   "id": "63352eb8",
   "metadata": {},
   "source": [
    "Rinex Navigation files can be loaded using `RinexNav`"
   ]
  },
  {
   "cell_type": "code",
   "execution_count": null,
   "id": "b034c805",
   "metadata": {},
   "outputs": [],
   "source": [
    "# download example Rinex navigation file\n",
    "glp.make_dir(\"../data\")\n",
    "!wget https://raw.githubusercontent.com/Stanford-NavLab/gnss_lib_py/main/data/unit_test/rinex/nav/brdc1370.20n --quiet -nc -O \"../data/brdc1370.20n\""
   ]
  },
  {
   "cell_type": "code",
   "execution_count": null,
   "id": "f14e71ef",
   "metadata": {},
   "outputs": [],
   "source": [
    "# load into NavData instance\n",
    "rinex_nav = glp.RinexNav(\"../data/brdc1370.20n\")\n",
    "rinex_nav"
   ]
  }
 ],
 "metadata": {
  "kernelspec": {
   "display_name": "Python 3 (ipykernel)",
   "language": "python",
   "name": "python3"
  },
  "language_info": {
   "codemirror_mode": {
    "name": "ipython",
    "version": 3
   },
   "file_extension": ".py",
   "mimetype": "text/x-python",
   "name": "python",
   "nbconvert_exporter": "python",
   "pygments_lexer": "ipython3",
   "version": "3.8.9"
  },
  "vscode": {
   "interpreter": {
    "hash": "c7717b1dd2ec65abd747d44a25869d062db68d19263f8e701e26dddb0b153342"
   }
  }
 },
 "nbformat": 4,
 "nbformat_minor": 5
}
