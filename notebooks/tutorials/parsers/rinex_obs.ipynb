{
 "cells": [
  {
   "cell_type": "markdown",
   "id": "fe8e8d6a",
   "metadata": {},
   "source": [
    "# Rinex Observation File Parsing"
   ]
  },
  {
   "cell_type": "markdown",
   "id": "eba6fd5d",
   "metadata": {},
   "source": [
    "[![Open In Colab](https://colab.research.google.com/assets/colab-badge.svg)](https://colab.research.google.com/github/Stanford-NavLab/gnss_lib_py/blob/main/notebooks/tutorials/parsers/rinex_obs.ipynb)"
   ]
  },
  {
   "cell_type": "markdown",
   "id": "d5632d85",
   "metadata": {},
   "source": [
    "Load `gnss_lib_py` into the Python workspace"
   ]
  },
  {
   "cell_type": "code",
   "execution_count": null,
   "id": "f7468fd3",
   "metadata": {},
   "outputs": [],
   "source": [
    "import gnss_lib_py as glp"
   ]
  },
  {
   "cell_type": "markdown",
   "id": "af135db1",
   "metadata": {},
   "source": [
    "Rinex is another file standard that is used in the GNSS community to store and transmit navigation information.\n",
    "Files with the extension `.yyo`, where `yy` is the year in which the measurement was made, are used to store and transmit\n",
    "measurements.\n",
    "These measurement files can contain any constellation and each measurement usually contains the pseudorange, carrier phase (or difference from carrier frequency),\n",
    "doppler, and signal-to-noise ratio measurements.\n",
    "In the following lines, we show how to load a ``.o`` file into a NavData instance.\n",
    "\n",
    "Our `RinexObs` class uses the `georinex` module to load Rinex files.\n",
    "`georinex` reads through files line by line and so loading large Rinex files with a lot of measurements can be slow."
   ]
  },
  {
   "cell_type": "code",
   "execution_count": null,
   "id": "9f279032",
   "metadata": {},
   "outputs": [],
   "source": [
    "# download Rinex obs file and load it into NavData instance\n",
    "glp.make_dir(\"../data\")\n",
    "!wget https://raw.githubusercontent.com/Stanford-NavLab/gnss_lib_py/main/data/unit_test/rinex/obs/rinex_obs_mixed_types.20o --quiet -nc -O \"../data/rinex_obs_mixed_types.20o\"\n",
    "rinex_obs_3 = glp.RinexObs(\"../data/rinex_obs_mixed_types.20o\")\n",
    "print('Loaded Rinex Obs 3 data for the first time instant\\n', \\\n",
    "      rinex_obs_3.where('gps_millis', rinex_obs_3['gps_millis', 0], 'eq'))"
   ]
  }
 ],
 "metadata": {
  "kernelspec": {
   "display_name": "Python 3 (ipykernel)",
   "language": "python",
   "name": "python3"
  },
  "language_info": {
   "codemirror_mode": {
    "name": "ipython",
    "version": 3
   },
   "file_extension": ".py",
   "mimetype": "text/x-python",
   "name": "python",
   "nbconvert_exporter": "python",
   "pygments_lexer": "ipython3",
   "version": "3.8.9"
  },
  "vscode": {
   "interpreter": {
    "hash": "c7717b1dd2ec65abd747d44a25869d062db68d19263f8e701e26dddb0b153342"
   }
  }
 },
 "nbformat": 4,
 "nbformat_minor": 5
}
