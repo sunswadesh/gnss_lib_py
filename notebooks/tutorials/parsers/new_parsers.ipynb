{
 "cells": [
  {
   "cell_type": "markdown",
   "id": "eb016e74",
   "metadata": {},
   "source": [
    "# How to Create a New NavData Class"
   ]
  },
  {
   "cell_type": "markdown",
   "id": "2e3a2e05",
   "metadata": {},
   "source": [
    "[![Open In Colab](https://colab.research.google.com/assets/colab-badge.svg)](https://colab.research.google.com/github/Stanford-NavLab/gnss_lib_py/blob/main/notebooks/tutorials/parsers/new_parsers.ipynb)"
   ]
  },
  {
   "cell_type": "markdown",
   "id": "e8cfabd7",
   "metadata": {},
   "source": [
    "This tutorial explains how to create a new parser if necessary."
   ]
  },
  {
   "cell_type": "markdown",
   "id": "d5632d85",
   "metadata": {},
   "source": [
    "Load `gnss_lib_py` into the Python workspace"
   ]
  },
  {
   "cell_type": "code",
   "execution_count": null,
   "id": "f7468fd3",
   "metadata": {},
   "outputs": [],
   "source": [
    "import gnss_lib_py as glp"
   ]
  },
  {
   "cell_type": "markdown",
   "id": "28dad153",
   "metadata": {},
   "source": [
    "The modular and versatile functionality of this gnss_lib_py repository is enabled by loading all data types into a custom Python NavData class. If you are using a type of data or dataset that is not yet supported, you will need to create a new child class of the NavData Python class. This tutorial will guide you on how to set up your new Python child class. \n",
    "\n",
    "Once you have writtten and tested the class, please feel free to submit a pull request to our GitHub repository so other users can  make use of the added functionality."
   ]
  },
  {
   "cell_type": "markdown",
   "id": "69598dcc",
   "metadata": {},
   "source": [
    "For this example, say that we have a new type of data called MyReceiver that is a csv file with columns of a timestamp, satellite identifier, and pseudorange. The contents of a sample `myreceiver.csv` is the following:\n",
    "\n",
    "| myTimestamp | mySatId | myPseudorange |\n",
    "| ----------- | ------- | ------------- |\n",
    "| 10          | 10      | 270000001     |\n",
    "| 10          | 14      | 270000007     |\n",
    "| 10          | 7       | 270000004     |\n",
    "| 10          | 3       | 270000005     |\n",
    "| 11          | 10      | 270000002     |\n",
    "| 11          | 14      | 270000008     |\n",
    "| 11          | 7       | 270000003     |\n",
    "| 11          | 3       | 270000004     |"
   ]
  },
  {
   "cell_type": "markdown",
   "id": "fedf66f3",
   "metadata": {},
   "source": [
    "The first step is importing the base `NavData` class and creating a new class type that inherits from `NavData`"
   ]
  },
  {
   "cell_type": "markdown",
   "id": "20c325d6",
   "metadata": {},
   "source": [
    "```python\n",
    "class MyReceiver(NavData):\n",
    "    \"\"\"Class handling measurements from MyReceiver.\n",
    "\n",
    "    Inherits from NavData().\n",
    "    \"\"\"\n",
    "```"
   ]
  },
  {
   "cell_type": "markdown",
   "id": "c60a6fe4",
   "metadata": {},
   "source": [
    "The `__init__` function should have a call to the parent `NavData` `__init__` function. Based on your data input, you should call the corresponding initializer.\n",
    "\n",
    "For csv files, call: `super().__init__(csv_path=input_path)`  \n",
    "For pandas DataFrames, call `super().__init__(pandas_df=input_path)`  \n",
    "For numpy ndarrays, call `super().__init__(numpy_array=input_path)`  \n",
    "\n",
    "In our case, we have a csv file, so our `__init__` function looks like the following:"
   ]
  },
  {
   "cell_type": "markdown",
   "id": "d51dff11",
   "metadata": {},
   "source": [
    "```python\n",
    "def __init__(self, input_path):\n",
    "    \"\"\"MyReceive specific loading and preprocessing\n",
    "\n",
    "    Parameters\n",
    "    ----------\n",
    "    input_path : string\n",
    "        Path to MyReceiver csv file\n",
    "\n",
    "    \"\"\"\n",
    "\n",
    "    # call NavData initialization with csv path\n",
    "    super().__init__(csv_path=input_path)\n",
    "```"
   ]
  },
  {
   "cell_type": "markdown",
   "id": "4d8dc67f",
   "metadata": {},
   "source": [
    "After our data is loaded, we may want to make known changes to our data. We can make those changes by defining a `postprocess` function. NavData's `__init__` function that we call in our initializer already makes a call to the `postprocess` function, so we don't have to repeat that call in `MyReceiver`'s `__init__` function."
   ]
  },
  {
   "cell_type": "markdown",
   "id": "c7d9b213",
   "metadata": {},
   "source": [
    "One thing that we need to do to make use of the common functionality of `gnss_lib_py` is to standardize the names of our variables. See the [Standard Naming Conventions](https://gnss-lib-py.readthedocs.io/en/latest/reference/reference.html#standard-naming-conventions) section in the Reference tab of the documentation for the list of standardized names.\n",
    "\n",
    "In our case, we will convert `mySatId` to `sv_id` and `myPseudorange` to `raw_pr_m`. We make these conversions by simply updating the `_row_map` function."
   ]
  },
  {
   "cell_type": "markdown",
   "id": "bee9b8a1",
   "metadata": {},
   "source": [
    "```python\n",
    "\n",
    "\n",
    "@staticmethod\n",
    "def _row_map():\n",
    "    \"\"\"Map of column names from loaded to gnss_lib_py standard\n",
    "\n",
    "    Returns\n",
    "    -------\n",
    "    row_map : Dict\n",
    "        Dictionary of the form {old_name : new_name}\n",
    "    \"\"\"\n",
    "    row_map = {'mySatId' : 'sv_id',\n",
    "               'myPseudorange' : 'raw_pr_m',\n",
    "               }\n",
    "    return row_map\n",
    "```"
   ]
  },
  {
   "cell_type": "markdown",
   "id": "dbbe8d55",
   "metadata": {},
   "source": [
    "As an additional postprocessing step, we may want to offset our pseudorange due to a known error or create the common timestamp variable `gps_millis` based on our unique timestamp row. Adding the `gps_millis` row enables the use of some of the common algorithms. The [time conversion utilities](https://gnss-lib-py.readthedocs.io/en/latest/tutorials/tutorials_utilities_notebook.html) can be used to create `gps_millis` from the GPS Week & Time of week, GPS milliseconds, or a datetime object."
   ]
  },
  {
   "cell_type": "markdown",
   "id": "97fbeb7b",
   "metadata": {},
   "source": [
    "```python\n",
    "# correct pseudorange\n",
    "self['corr_pr_m'] = self['raw_pr_m'] + 100.\n",
    "\n",
    "# create common timestamp\n",
    "self['gps_millis'] = self['myTimestamp'] + 5629719023\n",
    "```"
   ]
  },
  {
   "cell_type": "markdown",
   "id": "72884667",
   "metadata": {},
   "source": [
    "Putting it all together, we have:"
   ]
  },
  {
   "cell_type": "code",
   "execution_count": null,
   "id": "956af339",
   "metadata": {},
   "outputs": [],
   "source": [
    "class MyReceiver(glp.NavData):\n",
    "    \"\"\"Class handling measurements from MyReceiver.\n",
    "\n",
    "    Inherits from NavData().\n",
    "    \"\"\"\n",
    "    def __init__(self, input_path):\n",
    "        \"\"\"MyReceive specific loading and preprocessing\n",
    "\n",
    "        Parameters\n",
    "        ----------\n",
    "        input_path : string\n",
    "            Path to MyReceiver csv file\n",
    "\n",
    "        \"\"\"\n",
    "\n",
    "        # call NavData initialization with csv path\n",
    "        super().__init__(csv_path=input_path)\n",
    "\n",
    "    def postprocess(self):\n",
    "        \"\"\"MyReceiver specific postprocessing\n",
    "\n",
    "        \"\"\"\n",
    "\n",
    "        # correct pseudorange\n",
    "        self['corr_pr_m'] = self['raw_pr_m'] + 100.\n",
    "\n",
    "        # create common timestamp\n",
    "        self['gps_millis'] = self['myTimestamp'] + 1659075505350\n",
    "\n",
    "\n",
    "    @staticmethod\n",
    "    def _row_map():\n",
    "        \"\"\"Map of column names from loaded to gnss_lib_py standard\n",
    "\n",
    "        Returns\n",
    "        -------\n",
    "        row_map : Dict\n",
    "            Dictionary of the form {old_name : new_name}\n",
    "        \"\"\"\n",
    "        row_map = {'mySatId' : 'sv_id',\n",
    "                   'myPseudorange' : 'raw_pr_m',\n",
    "                   }\n",
    "        return row_map"
   ]
  },
  {
   "cell_type": "markdown",
   "id": "1ccadb47",
   "metadata": {},
   "source": [
    "We can now create a instance of our new `MyReceiver` class with the path to our csv called `myreceiver.csv`."
   ]
  },
  {
   "cell_type": "code",
   "execution_count": null,
   "id": "b611a39f",
   "metadata": {},
   "outputs": [],
   "source": [
    "# download myreceiver.csv file\n",
    "glp.make_dir(\"../data\")\n",
    "!wget https://raw.githubusercontent.com/Stanford-NavLab/gnss_lib_py/main/notebooks/tutorials/data/myreceiver.csv --quiet -O \"../data/myreceiver.csv\"\n",
    "\n",
    "# create instance of MyReceiver\n",
    "my_receiver_data = MyReceiver(\"../data/myreceiver.csv\")"
   ]
  },
  {
   "cell_type": "markdown",
   "id": "52b64751",
   "metadata": {},
   "source": [
    "Let's print out our corrected pseudorange to make sure everything worked correctly."
   ]
  },
  {
   "cell_type": "code",
   "execution_count": null,
   "id": "bae52fb6",
   "metadata": {},
   "outputs": [],
   "source": [
    "my_receiver_data[\"corr_pr_m\"]"
   ]
  },
  {
   "cell_type": "markdown",
   "id": "fd3eea3d",
   "metadata": {},
   "source": [
    "We can now take advantage of all the tools `gnss_lib_py` has to offer!"
   ]
  },
  {
   "cell_type": "code",
   "execution_count": null,
   "id": "bad31b8a",
   "metadata": {},
   "outputs": [],
   "source": [
    "fig = glp.plot_metric(my_receiver_data,\"gps_millis\",\"corr_pr_m\",groupby=\"sv_id\")"
   ]
  }
 ],
 "metadata": {
  "kernelspec": {
   "display_name": "Python 3 (ipykernel)",
   "language": "python",
   "name": "python3"
  },
  "language_info": {
   "codemirror_mode": {
    "name": "ipython",
    "version": 3
   },
   "file_extension": ".py",
   "mimetype": "text/x-python",
   "name": "python",
   "nbconvert_exporter": "python",
   "pygments_lexer": "ipython3",
   "version": "3.8.9"
  },
  "vscode": {
   "interpreter": {
    "hash": "c7717b1dd2ec65abd747d44a25869d062db68d19263f8e701e26dddb0b153342"
   }
  }
 },
 "nbformat": 4,
 "nbformat_minor": 5
}
