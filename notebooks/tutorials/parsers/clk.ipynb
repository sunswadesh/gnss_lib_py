{
 "cells": [
  {
   "cell_type": "markdown",
   "id": "c351c2eb",
   "metadata": {},
   "source": [
    "# CLK File Parsing"
   ]
  },
  {
   "cell_type": "markdown",
   "id": "7e7f2cce",
   "metadata": {},
   "source": [
    "[![Open In Colab](https://colab.research.google.com/assets/colab-badge.svg)](https://colab.research.google.com/github/Stanford-NavLab/gnss_lib_py/blob/main/notebooks/tutorials/parsers/clk.ipynb)"
   ]
  },
  {
   "cell_type": "markdown",
   "id": "d5632d85",
   "metadata": {},
   "source": [
    "Load `gnss_lib_py` into the Python workspace"
   ]
  },
  {
   "cell_type": "code",
   "execution_count": null,
   "id": "f7468fd3",
   "metadata": {},
   "outputs": [],
   "source": [
    "import gnss_lib_py as glp"
   ]
  },
  {
   "cell_type": "markdown",
   "id": "9519121f",
   "metadata": {},
   "source": [
    "This tutorial shows how to load CLK files."
   ]
  },
  {
   "cell_type": "code",
   "execution_count": null,
   "id": "102f55d9",
   "metadata": {},
   "outputs": [],
   "source": [
    "# download an example .clk data file\n",
    "glp.make_dir(\"../data\")\n",
    "!wget https://raw.githubusercontent.com/Stanford-NavLab/gnss_lib_py/main/data/unit_test/clk/COD0MGXFIN_20211180000_01D_30S_CLK.CLK --quiet -nc -O \"../data/COD0MGXFIN_20211180000_01D_30S_CLK.CLK\"\n",
    "# Specify .clk file path to extract precise ephemerides\n",
    "clk_path = \"../data/COD0MGXFIN_20211180000_01D_30S_CLK.CLK\""
   ]
  },
  {
   "cell_type": "markdown",
   "id": "b90a33e5",
   "metadata": {},
   "source": [
    "Use the Clk class loader to load in the CLK file. The class can also optionally take multiple files as a list."
   ]
  },
  {
   "cell_type": "code",
   "execution_count": null,
   "id": "6ab5eb6c",
   "metadata": {},
   "outputs": [],
   "source": [
    "clk = glp.Clk(clk_path)\n",
    "clk"
   ]
  },
  {
   "cell_type": "markdown",
   "id": "b87c055c",
   "metadata": {},
   "source": [
    "To visualize the results, we'll plot the clock bias of the first BeiDou satellites."
   ]
  },
  {
   "cell_type": "code",
   "execution_count": null,
   "id": "b1a1b9b7",
   "metadata": {
    "scrolled": true
   },
   "outputs": [],
   "source": [
    "clk_first_beidou = clk.where(\"gnss_id\",\"beidou\").where(\"sv_id\",16,\"leq\")\n",
    "fig = glp.plot_metric_by_constellation(clk_first_beidou,\"b_sv_m\")"
   ]
  }
 ],
 "metadata": {
  "kernelspec": {
   "display_name": "Python 3 (ipykernel)",
   "language": "python",
   "name": "python3"
  },
  "language_info": {
   "codemirror_mode": {
    "name": "ipython",
    "version": 3
   },
   "file_extension": ".py",
   "mimetype": "text/x-python",
   "name": "python",
   "nbconvert_exporter": "python",
   "pygments_lexer": "ipython3",
   "version": "3.8.9"
  },
  "vscode": {
   "interpreter": {
    "hash": "c7717b1dd2ec65abd747d44a25869d062db68d19263f8e701e26dddb0b153342"
   }
  }
 },
 "nbformat": 4,
 "nbformat_minor": 5
}
