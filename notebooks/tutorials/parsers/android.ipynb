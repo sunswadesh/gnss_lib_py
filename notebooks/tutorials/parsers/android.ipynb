{
 "cells": [
  {
   "cell_type": "markdown",
   "id": "61a6fa8a-1182-4f5f-91b1-f6722ec4c426",
   "metadata": {},
   "source": [
    "# GnssLogger Android App"
   ]
  },
  {
   "cell_type": "markdown",
   "id": "69d33be8",
   "metadata": {},
   "source": [
    "[![Open In Colab](https://colab.research.google.com/assets/colab-badge.svg)](https://colab.research.google.com/github/Stanford-NavLab/gnss_lib_py/blob/main/notebooks/tutorials/parsers/android.ipynb)"
   ]
  },
  {
   "cell_type": "markdown",
   "id": "7954f8b9-22f3-44ba-bf04-8dfedb40250b",
   "metadata": {},
   "source": [
    "This tutorial walks through how to parse the files obtained from [Google's GNSSLogger Android App](https://play.google.com/store/apps/details?id=com.google.android.apps.location.gps.gnsslogger&pcampaignid=web_share). Details for each data type can be found in Google's [gps-measurement-tools](https://github.com/google/gps-measurement-tools/blob/master/LOGGING_FORMAT.md) repository.\n",
    "\n",
    "The toggle switches on the \"Home\" tab of the GNSSLogger app need to be set based on the type(s) of measurements you want to log: fixes, raw, NMEA, Rinex, sensors, etc.\n",
    "\n",
    "After data is logged, the measurements can be saved immediately or retrieved at a later time within Android's internal storage. Data can be found on the phone under a directory similar to: ``<phone>/Internal shared storage/Android/data/com.google.android.apps.location.gps.gnsslogger/files/gnss_log/``"
   ]
  },
  {
   "cell_type": "markdown",
   "id": "16a92bd3-daf2-42e5-9eeb-0a5abb6c2d49",
   "metadata": {},
   "source": [
    "![GnssLogger screenshot](https://raw.githubusercontent.com/Stanford-NavLab/gnss_lib_py/main/docs/source/img/gnss_logger_app.jpg)"
   ]
  },
  {
   "cell_type": "markdown",
   "id": "2f86b121-14d4-479a-bf94-d6a79fe9cd7c",
   "metadata": {},
   "source": [
    "Load `gnss_lib_py` into the Python workspace"
   ]
  },
  {
   "cell_type": "code",
   "execution_count": null,
   "id": "0e012295-6e36-4c5a-8375-67c61e8f7688",
   "metadata": {},
   "outputs": [],
   "source": [
    "import numpy as np\n",
    "import gnss_lib_py as glp\n",
    "import matplotlib.pyplot as plt"
   ]
  },
  {
   "cell_type": "markdown",
   "id": "76ed5864-6e06-4c74-bb04-da2f8cd5ed3f",
   "metadata": {},
   "source": [
    "## Fix Measurements from gnss_log*.txt"
   ]
  },
  {
   "cell_type": "markdown",
   "id": "92644095-2f36-4fbf-af07-b9e1b95ae32c",
   "metadata": {},
   "source": [
    "The first type of measurements we can get is toggling a combination of \"GNSS Location\", \"Fused Location\", and/or \"Network Location\" in the GNSSLogger app. These location fixes are indicated with rows that start with \"Fix\" in the gnss_log.txt file output.\n",
    "\n",
    "We start by downloading an example measurement file from the GNSSLogger Android App."
   ]
  },
  {
   "cell_type": "code",
   "execution_count": null,
   "id": "382fab9f-16b9-4943-a243-52b580cf9ae8",
   "metadata": {},
   "outputs": [],
   "source": [
    "glp.make_dir(\"../data\")\n",
    "!wget https://raw.githubusercontent.com/Stanford-NavLab/gnss_lib_py/main/data/unit_test/android/measurements/pixel6.txt --quiet -nc -O \"../data/gnss_log.txt\""
   ]
  },
  {
   "cell_type": "markdown",
   "id": "c22ee775-9edf-454c-ac73-11030af8404a",
   "metadata": {},
   "source": [
    "Load fix data into the existing `glp.AndroidRawFixes` class."
   ]
  },
  {
   "cell_type": "code",
   "execution_count": null,
   "id": "d53e6149-124e-4333-9a99-e8a6e8802d92",
   "metadata": {},
   "outputs": [],
   "source": [
    "fix_data = glp.AndroidRawFixes(\"../data/gnss_log.txt\")"
   ]
  },
  {
   "cell_type": "markdown",
   "id": "a2981cb7-5c74-41ca-97f6-789e30ac9c59",
   "metadata": {},
   "source": [
    "Based on the toggles you choose in the GNSSLogger app, you may have three different type of fixes: GNSS, network, and fused."
   ]
  },
  {
   "cell_type": "code",
   "execution_count": null,
   "id": "106a8f00-7730-475f-90d2-4929510f3f95",
   "metadata": {},
   "outputs": [],
   "source": [
    "fix_types = np.unique(fix_data[\"fix_provider\"]).tolist()\n",
    "fix_types"
   ]
  },
  {
   "cell_type": "markdown",
   "id": "71005d7f-e625-4437-98f3-60c65b45b879",
   "metadata": {},
   "source": [
    "We will extract these three different type of fixes and rename their row names so that we can plot them as different colors all on the same map."
   ]
  },
  {
   "cell_type": "code",
   "execution_count": null,
   "id": "5ebd2026-1dbf-4250-947e-3af324bc59ee",
   "metadata": {},
   "outputs": [],
   "source": [
    "fixes = []\n",
    "for provider in fix_types:\n",
    "    fix_provider = fix_data.where(\"fix_provider\",provider)\n",
    "    fix_provider.rename({\"lat_rx_deg\":\"lat_rx_\" + provider + \"_deg\",\n",
    "                         \"lon_rx_deg\":\"lon_rx_\" + provider + \"_deg\",\n",
    "                         \"alt_rx_m\":\"alt_rx_\" + provider + \"_m\",\n",
    "                         }, inplace=True)\n",
    "    fixes.append(fix_provider)"
   ]
  },
  {
   "cell_type": "markdown",
   "id": "dde0268d-2586-47de-a933-7f25810a1c0e",
   "metadata": {},
   "source": [
    "The GNSS, fused, and network location fixes are all shown in different colors in the map below."
   ]
  },
  {
   "cell_type": "code",
   "execution_count": null,
   "id": "b0de3cb2-1485-4e83-bab2-2d471d5aa195",
   "metadata": {},
   "outputs": [],
   "source": [
    "fig_fix = glp.plot_map(*fixes)\n",
    "fig_fix.show()"
   ]
  },
  {
   "cell_type": "markdown",
   "id": "ef81b743-37e1-463e-af95-cff0a6a01846",
   "metadata": {},
   "source": [
    "Download example measurement file from the GNSSLogger Android App."
   ]
  },
  {
   "cell_type": "markdown",
   "id": "3433bf17-b0cb-4d14-9c41-66334645205f",
   "metadata": {},
   "source": [
    "## Raw Measurements from gnss_log*.txt"
   ]
  },
  {
   "cell_type": "markdown",
   "id": "1778b1ab-1332-4f8f-8d6e-374a1e80baf4",
   "metadata": {},
   "source": [
    "The secibd type of measurements we can get is by toggling \"Measurements\" in the GNSSLogger app. These are raw measurements indicated with rows that start with \"Raw\" in the gnss_log.txt file output.\n",
    "\n",
    "We start by loading our previously downloaded raw data into the existing `glp.AndroidRawGNSS` class. When you load the data here, behind the scenes it will compute the raw pseudorange values optionally filter measurements based on a variety of conditions. See the the [filter_raw_measurements](https://gnss-lib-py.readthedocs.io/en/latest/reference/parsers/android.html#android.AndroidRawGnss.filter_raw_measurements) reference documentation for details on the options for exisitng filter types."
   ]
  },
  {
   "cell_type": "code",
   "execution_count": null,
   "id": "9aac1e11-41c1-4458-a569-43a8fcda6a13",
   "metadata": {},
   "outputs": [],
   "source": [
    "raw_data = glp.AndroidRawGnss(input_path=\"../data/gnss_log.txt\",\n",
    "                              filter_measurements=True,\n",
    "                              measurement_filters={\"sv_time_uncertainty\" : 500.},\n",
    "                              verbose=True)"
   ]
  },
  {
   "cell_type": "markdown",
   "id": "1585e59d-68af-4b05-b058-8e7c5c151e9c",
   "metadata": {},
   "source": [
    "We now have many data fields with which to work. Details for each data field can be found in `gnss_lib_py`'s [standard naming conventions](https://gnss-lib-py.readthedocs.io/en/latest/reference/reference.html#standard-naming-conventions) or Google's [gps-measurement-tools](https://github.com/google/gps-measurement-tools/blob/master/LOGGING_FORMAT.md#field-definitions) repository."
   ]
  },
  {
   "cell_type": "code",
   "execution_count": null,
   "id": "65ee8793-41db-467a-8d60-7db82b0b5286",
   "metadata": {},
   "outputs": [],
   "source": [
    "raw_data.rows"
   ]
  },
  {
   "cell_type": "markdown",
   "id": "9871d209-8500-48df-a9a5-9b62d8584192",
   "metadata": {},
   "source": [
    "Let's visualize the raw pseudoranges that have been compouted for us."
   ]
  },
  {
   "cell_type": "code",
   "execution_count": null,
   "id": "fc5efef8-5447-4d85-bf60-b1abe57f885d",
   "metadata": {},
   "outputs": [],
   "source": [
    "figs = glp.plot_metric_by_constellation(raw_data,\"gps_millis\",\"raw_pr_m\")"
   ]
  },
  {
   "cell_type": "markdown",
   "id": "f9eaaad4-4ced-44ae-b3cd-23865d471ee5",
   "metadata": {},
   "source": [
    "Before we can compute a Weighted Least Squares position, we first need to add satellite positions to our data. This block may take a bit of time since it has to download ephemeris files from the internet. Turn on `verbose=True` to see the data sources it's downloading."
   ]
  },
  {
   "cell_type": "code",
   "execution_count": null,
   "id": "711badd9-d91d-4112-b947-ea7b40b1cbc0",
   "metadata": {},
   "outputs": [],
   "source": [
    "full_states = glp.add_sv_states(raw_data, source=\"precise\", verbose=False)"
   ]
  },
  {
   "cell_type": "markdown",
   "id": "4edb1d1b-0c37-43a9-9d28-69a67ba98399",
   "metadata": {},
   "source": [
    "We can then compute a \"corrected\" pseudorange by subtracting out each satellite's respective clock bias."
   ]
  },
  {
   "cell_type": "code",
   "execution_count": null,
   "id": "e3b36fd4-e302-4f23-813e-ddd73901d6ad",
   "metadata": {},
   "outputs": [],
   "source": [
    "full_states[\"corr_pr_m\"] = full_states[\"raw_pr_m\"] \\\n",
    "                         + full_states['b_sv_m']"
   ]
  },
  {
   "cell_type": "markdown",
   "id": "9cacbce0-3e68-46d5-a9e3-1d6381436a2b",
   "metadata": {},
   "source": [
    "Since we haven't yet computed any inter-constellation bias, we will crop down to only using GPS and Galileo measurements since the inter-constellation bias between them and GLONASS is quite large in this instance."
   ]
  },
  {
   "cell_type": "code",
   "execution_count": null,
   "id": "af5ef194-ba8b-4dd3-80b3-70c064692b0e",
   "metadata": {},
   "outputs": [],
   "source": [
    "full_states = full_states.where(\"gnss_id\",(\"gps\",\"galileo\"))"
   ]
  },
  {
   "cell_type": "markdown",
   "id": "37e02076-a4a2-4597-a2c9-357b8fe16a8b",
   "metadata": {},
   "source": [
    "We can now calculate our Weighted Least Squares position estimate."
   ]
  },
  {
   "cell_type": "code",
   "execution_count": null,
   "id": "36a1117f-1a10-42ca-a2e7-65d219a32167",
   "metadata": {},
   "outputs": [],
   "source": [
    "wls_estimate = glp.solve_wls(full_states)"
   ]
  },
  {
   "cell_type": "markdown",
   "id": "92dd9f33-fd1b-4c6f-b4f8-f7fec869cccc",
   "metadata": {},
   "source": [
    "Finally we'll plot our state estimate on a map."
   ]
  },
  {
   "cell_type": "code",
   "execution_count": null,
   "id": "205d7110-6de0-4e01-89d4-58087814848d",
   "metadata": {},
   "outputs": [],
   "source": [
    "raw_fig = glp.plot_map(wls_estimate)\n",
    "raw_fig.show()"
   ]
  },
  {
   "cell_type": "markdown",
   "id": "e8d89a65-e239-4dac-893a-189c3a6b4f7c",
   "metadata": {},
   "source": [
    "## NMEA from gnss_log*.nmea"
   ]
  },
  {
   "cell_type": "markdown",
   "id": "8a5be50c-9a29-4327-aa92-51e56f05474c",
   "metadata": {},
   "source": [
    "The third type of data that we can get from the GNSSLogger App is if \"Log NMEA\" is toggled. The NMEA data gives us a latitude and longitude directly.\n",
    "\n",
    "We start by downloading an example NMEA log."
   ]
  },
  {
   "cell_type": "code",
   "execution_count": null,
   "id": "4ec28e4e-a569-4d55-9e26-3dc897dd51b1",
   "metadata": {},
   "outputs": [],
   "source": [
    "glp.make_dir(\"../data\")\n",
    "!wget https://raw.githubusercontent.com/Stanford-NavLab/gnss_lib_py/main/data/unit_test/android/nmea/pixel6.nmea --quiet -nc -O \"../data/gnss_log.nmea\""
   ]
  },
  {
   "cell_type": "markdown",
   "id": "9b4fac7c-b9a8-4e61-bcc3-9a94bb8fa4ce",
   "metadata": {},
   "source": [
    "Load the NMEA data into the existing `glp.Nmea` class."
   ]
  },
  {
   "cell_type": "code",
   "execution_count": null,
   "id": "a5c7d820-5dd2-4eb3-82d8-883e19c4c005",
   "metadata": {},
   "outputs": [],
   "source": [
    "nmea_data = glp.Nmea(\"../data/gnss_log.nmea\")"
   ]
  },
  {
   "cell_type": "markdown",
   "id": "4c62295f-f4cb-46a4-8f2d-7a9a60663980",
   "metadata": {},
   "source": [
    "We can plot the NMEA data on a map."
   ]
  },
  {
   "cell_type": "code",
   "execution_count": null,
   "id": "3c34ab76-c85d-4e04-ab8e-7a87fc5f521b",
   "metadata": {
    "scrolled": true
   },
   "outputs": [],
   "source": [
    "nmea_fig = glp.plot_map(nmea_data)\n",
    "nmea_fig.show()"
   ]
  },
  {
   "cell_type": "markdown",
   "id": "c9790119-0afd-4b2c-b3d2-76b212d672c6",
   "metadata": {},
   "source": [
    "We also have a few other fields explore."
   ]
  },
  {
   "cell_type": "code",
   "execution_count": null,
   "id": "442d5fa0-cd8b-45bd-9c27-ce80550a41ef",
   "metadata": {},
   "outputs": [],
   "source": [
    "nmea_data.rows"
   ]
  },
  {
   "cell_type": "markdown",
   "id": "9f7c7b18-6cbe-44a9-bebf-33f5642d19bd",
   "metadata": {},
   "source": [
    "For example, we can plot the number of satellites over time."
   ]
  },
  {
   "cell_type": "code",
   "execution_count": null,
   "id": "145da689-9cd8-4238-95c8-0f81d8e7003b",
   "metadata": {},
   "outputs": [],
   "source": [
    "fig = glp.plot_metric(nmea_data,\"gps_millis\",\"num_sats\")"
   ]
  },
  {
   "cell_type": "markdown",
   "id": "1702933f-2fc5-433b-8e97-7d3b5093f004",
   "metadata": {},
   "source": [
    "## Rinex Observations"
   ]
  },
  {
   "cell_type": "markdown",
   "id": "9ad404b8-388c-46a2-a00a-bcb764ab8994",
   "metadata": {},
   "source": [
    "The last type of GNSS log that we can obtain from the GNSSLogger app is Rinex observations. We can obtain this data from certain phones if the \"Log RINEX\" option is toggled in the GNSSLogger app.\n",
    "\n",
    "We start by downloading an example rinex observation log."
   ]
  },
  {
   "cell_type": "code",
   "execution_count": null,
   "id": "392d74f7-d992-4b21-abc3-1d0b02b33ddb",
   "metadata": {},
   "outputs": [],
   "source": [
    "glp.make_dir(\"../data\")\n",
    "!wget https://raw.githubusercontent.com/Stanford-NavLab/gnss_lib_py/main/data/unit_test/android/rinex_obs/pixel6.23o --quiet -nc -O \"../data/gnss_log.23o\""
   ]
  },
  {
   "cell_type": "markdown",
   "id": "9ba5e269-8070-44f8-835b-533414ff1c53",
   "metadata": {},
   "source": [
    "Load the NMEA data into the existing `glp.RinexObs` class."
   ]
  },
  {
   "cell_type": "code",
   "execution_count": null,
   "id": "5e057f97-ce9e-404c-8f78-028887de3114",
   "metadata": {},
   "outputs": [],
   "source": [
    "rinex_data = glp.RinexObs(\"../data/gnss_log.23o\")"
   ]
  },
  {
   "cell_type": "markdown",
   "id": "a329354d-8014-4ba5-ba08-1edf831e05a4",
   "metadata": {},
   "source": [
    "One small pecularity about rinex observations logged with the GNSSLogger app is that their timestamps don't account for the leapseconds since the start of the GPS epoch. Don't worry though, with `gnss_lib_py` that's a quick fix we can make."
   ]
  },
  {
   "cell_type": "code",
   "execution_count": null,
   "id": "d7345918-fe03-4680-ab0f-569c9d9d30be",
   "metadata": {},
   "outputs": [],
   "source": [
    "rinex_data[\"gps_millis\"] -= glp.get_leap_seconds(rinex_data[\"gps_millis\",0]) * 1E3"
   ]
  },
  {
   "cell_type": "markdown",
   "id": "385f9064-87e0-4d3b-b606-7102a12ff0e0",
   "metadata": {},
   "source": [
    "Before we can compute a Weighted Least Squares position, we first need to add satellite positions to our data. This block may take a bit of time since it has to download ephemeris files from the internet. Turn on `verbose=True` to see the data sources it's downloading."
   ]
  },
  {
   "cell_type": "code",
   "execution_count": null,
   "id": "45db3f05-a031-4c78-91fd-63a7210df5f2",
   "metadata": {},
   "outputs": [],
   "source": [
    "full_states = glp.add_sv_states(rinex_data, source=\"precise\", verbose=False)"
   ]
  },
  {
   "cell_type": "markdown",
   "id": "2427e063-271a-4f27-927b-93721b7c809b",
   "metadata": {},
   "source": [
    "We can then compute a \"corrected\" pseudorange by subtracting out each satellite's respective clock bias."
   ]
  },
  {
   "cell_type": "code",
   "execution_count": null,
   "id": "e888b339-94b9-4412-a32d-e1df6209eb5f",
   "metadata": {},
   "outputs": [],
   "source": [
    "full_states[\"corr_pr_m\"] = full_states[\"raw_pr_m\"] \\\n",
    "                         + full_states['b_sv_m']"
   ]
  },
  {
   "cell_type": "markdown",
   "id": "5d789186-86f4-4330-ade4-90f4f68a250b",
   "metadata": {},
   "source": [
    "Since we haven't yet computed any inter-constellation bias, we will crop down to only using GPS and Galileo measurements since the inter-constellation bias between them and GLONASS is quite large in this instance."
   ]
  },
  {
   "cell_type": "code",
   "execution_count": null,
   "id": "34ccfb3e-ca75-42f0-b752-a16ed646a7e5",
   "metadata": {},
   "outputs": [],
   "source": [
    "full_states = full_states.where(\"gnss_id\",(\"gps\",\"galileo\"))"
   ]
  },
  {
   "cell_type": "markdown",
   "id": "ccf562f1-0e2e-471e-9f88-7ab860ab2506",
   "metadata": {},
   "source": [
    "We can now calculate our Weighted Least Squares position estimate."
   ]
  },
  {
   "cell_type": "code",
   "execution_count": null,
   "id": "25407c92-2f83-42c4-8d99-3a0f31c99273",
   "metadata": {},
   "outputs": [],
   "source": [
    "wls_estimate = glp.solve_wls(full_states)"
   ]
  },
  {
   "cell_type": "markdown",
   "id": "1e296871-f1df-45be-bd6b-dba42734b62c",
   "metadata": {},
   "source": [
    "Finally we'll plot our state estimate on a map."
   ]
  },
  {
   "cell_type": "code",
   "execution_count": null,
   "id": "e6ba0f99-5618-4722-af35-3d813ef6a3db",
   "metadata": {},
   "outputs": [],
   "source": [
    "raw_fig = glp.plot_map(wls_estimate)\n",
    "raw_fig.show()"
   ]
  },
  {
   "cell_type": "markdown",
   "id": "928c06d2-56a2-4346-9b1f-5404bf019d1c",
   "metadata": {},
   "source": [
    "## Sensor Measurements gnss_log*.txt"
   ]
  },
  {
   "cell_type": "markdown",
   "id": "02d00300-27a2-4b29-bcd7-143f988de1c0",
   "metadata": {},
   "source": [
    "If the \"sensors\" option is toggled in the GNSSLogger app, then the gnss_log*.txt log file will contain a number of sensor measurements that can be extracted with built in Python classes."
   ]
  },
  {
   "cell_type": "markdown",
   "id": "3a5b5e04-5829-4619-9b81-39e5ce5233ac",
   "metadata": {},
   "source": [
    "### Accelerometer Measurements from gnss_log*.txt"
   ]
  },
  {
   "cell_type": "code",
   "execution_count": null,
   "id": "6986845b-fc8f-4f43-b870-6cc706d5ca3a",
   "metadata": {},
   "outputs": [],
   "source": [
    "raw_data = glp.AndroidRawAccel(input_path=\"../data/gnss_log.txt\")"
   ]
  },
  {
   "cell_type": "code",
   "execution_count": null,
   "id": "67178fcd-7a47-4484-a15d-c772e052680c",
   "metadata": {},
   "outputs": [],
   "source": [
    "fig = glp.plot_metric(raw_data, \"gps_millis\",\"acc_x_uncal_mps2\",label=\"x\")\n",
    "fig = glp.plot_metric(raw_data, \"gps_millis\",\"acc_y_uncal_mps2\",label=\"y\",fig=fig)\n",
    "fig = glp.plot_metric(raw_data, \"gps_millis\",\"acc_z_uncal_mps2\",label=\"z\",fig=fig,\n",
    "                     title=\"Accelerometer vs. GPS Time [milliseconds]\")\n",
    "ylabel = plt.ylabel(\"ACC UNCAL [m/s^2]\")"
   ]
  },
  {
   "cell_type": "markdown",
   "id": "1f7d84f2-10c5-43be-9b33-b4c222533e9c",
   "metadata": {},
   "source": [
    "### Gyro Measurements from gnss_log*.txt"
   ]
  },
  {
   "cell_type": "code",
   "execution_count": null,
   "id": "a5263791-c5b5-4332-bfef-4a6204aa945a",
   "metadata": {},
   "outputs": [],
   "source": [
    "raw_data = glp.AndroidRawGyro(input_path=\"../data/gnss_log.txt\")"
   ]
  },
  {
   "cell_type": "code",
   "execution_count": null,
   "id": "f36ffe54-fd86-4471-8dfc-f8eca7b67e8c",
   "metadata": {},
   "outputs": [],
   "source": [
    "fig = glp.plot_metric(raw_data, \"gps_millis\",\"ang_vel_x_uncal_radps\",label=\"x\")\n",
    "fig = glp.plot_metric(raw_data, \"gps_millis\",\"ang_vel_y_uncal_radps\",label=\"y\",fig=fig)\n",
    "fig = glp.plot_metric(raw_data, \"gps_millis\",\"ang_vel_z_uncal_radps\",label=\"z\",fig=fig,\n",
    "                      title=\"Gyro vs. GPS Time [milliseconds]\")\n",
    "ylabel = plt.ylabel(\"ANG VEL UNCAL [rad/s]\")"
   ]
  },
  {
   "cell_type": "markdown",
   "id": "1dedf8c6-66ec-4862-8e6e-b44610647bb1",
   "metadata": {},
   "source": [
    "### Magnetometer Measurements from gnss_log*.txt"
   ]
  },
  {
   "cell_type": "code",
   "execution_count": null,
   "id": "39d176d5-f11f-441f-8b58-70de6f0389ce",
   "metadata": {},
   "outputs": [],
   "source": [
    "raw_data = glp.AndroidRawMag(input_path=\"../data/gnss_log.txt\")"
   ]
  },
  {
   "cell_type": "code",
   "execution_count": null,
   "id": "cc717014-1902-4fff-8e1b-3712916906bd",
   "metadata": {},
   "outputs": [],
   "source": [
    "fig = glp.plot_metric(raw_data, \"gps_millis\",\"mag_x_uncal_microt\",label=\"x\")\n",
    "fig = glp.plot_metric(raw_data, \"gps_millis\",\"mag_y_uncal_microt\",label=\"y\",fig=fig)\n",
    "fig = glp.plot_metric(raw_data, \"gps_millis\",\"mag_z_uncal_microt\",label=\"z\",fig=fig,\n",
    "                      title=\"Magnetometer vs. GPS Time [milliseconds]\")\n",
    "ylabel = plt.ylabel(\"MAG UNCAL [micro T]\")"
   ]
  },
  {
   "cell_type": "markdown",
   "id": "a770c7ea-02fc-43b7-b3d3-93b0e79855be",
   "metadata": {},
   "source": [
    "### Orientation Measurements from gnss_log*.txt"
   ]
  },
  {
   "cell_type": "code",
   "execution_count": null,
   "id": "cd945c3f-5ee7-459d-8b7b-bee7320863fb",
   "metadata": {},
   "outputs": [],
   "source": [
    "raw_data = glp.AndroidRawOrientation(input_path=\"../data/gnss_log.txt\")"
   ]
  },
  {
   "cell_type": "code",
   "execution_count": null,
   "id": "90d9065b-7573-446a-b20e-9445158a76ca",
   "metadata": {},
   "outputs": [],
   "source": [
    "fig = glp.plot_metric(raw_data, \"gps_millis\",\"roll_rx_deg\",label=\"roll\")\n",
    "fig = glp.plot_metric(raw_data, \"gps_millis\",\"pitch_rx_deg\",label=\"pitch\",fig=fig)\n",
    "fig = glp.plot_metric(raw_data, \"gps_millis\",\"yaw_rx_deg\",label=\"yaw\",fig=fig,\n",
    "                      title=\"Orientation [deg] vs. GPS Time [milliseconds]\")\n",
    "ylabel = plt.ylabel(\"Orientation [deg]\")"
   ]
  }
 ],
 "metadata": {
  "kernelspec": {
   "display_name": "Python 3 (ipykernel)",
   "language": "python",
   "name": "python3"
  },
  "language_info": {
   "codemirror_mode": {
    "name": "ipython",
    "version": 3
   },
   "file_extension": ".py",
   "mimetype": "text/x-python",
   "name": "python",
   "nbconvert_exporter": "python",
   "pygments_lexer": "ipython3",
   "version": "3.8.9"
  }
 },
 "nbformat": 4,
 "nbformat_minor": 5
}
