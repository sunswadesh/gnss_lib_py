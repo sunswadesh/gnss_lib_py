{
 "cells": [
  {
   "cell_type": "markdown",
   "id": "e93e4676",
   "metadata": {},
   "source": [
    "# SP3 File Parsing"
   ]
  },
  {
   "cell_type": "markdown",
   "id": "82fe014d",
   "metadata": {},
   "source": [
    "[![Open In Colab](https://colab.research.google.com/assets/colab-badge.svg)](https://colab.research.google.com/github/Stanford-NavLab/gnss_lib_py/blob/main/notebooks/tutorials/parsers/sp3.ipynb)"
   ]
  },
  {
   "cell_type": "markdown",
   "id": "d5632d85",
   "metadata": {},
   "source": [
    "Load `gnss_lib_py` into the Python workspace"
   ]
  },
  {
   "cell_type": "code",
   "execution_count": null,
   "id": "f7468fd3",
   "metadata": {},
   "outputs": [],
   "source": [
    "import gnss_lib_py as glp"
   ]
  },
  {
   "cell_type": "markdown",
   "id": "d1ce069f",
   "metadata": {},
   "source": [
    "This tutorial shows how to load SP3 files."
   ]
  },
  {
   "cell_type": "code",
   "execution_count": null,
   "id": "c0756386",
   "metadata": {},
   "outputs": [],
   "source": [
    "# download an example .sp3 data file\n",
    "glp.make_dir(\"../data\")\n",
    "!wget https://raw.githubusercontent.com/Stanford-NavLab/gnss_lib_py/main/data/unit_test/sp3/COD0MGXFIN_20211180000_01D_05M_ORB.SP3 --quiet -nc -O \"../data/COD0MGXFIN_20211180000_01D_05M_ORB.SP3\"\n",
    "# Specify .sp3 file path to extract precise ephemerides\n",
    "sp3_path = \"../data/COD0MGXFIN_20211180000_01D_05M_ORB.SP3\""
   ]
  },
  {
   "cell_type": "markdown",
   "id": "2ad4d614",
   "metadata": {},
   "source": [
    "Use the SP3 class loader to load in the SP3 file. The class can also optionally take multiple files as a list."
   ]
  },
  {
   "cell_type": "code",
   "execution_count": null,
   "id": "5906e3cb",
   "metadata": {},
   "outputs": [],
   "source": [
    "sp3 = glp.Sp3(sp3_path)\n",
    "sp3"
   ]
  },
  {
   "cell_type": "markdown",
   "id": "73352028",
   "metadata": {},
   "source": [
    "To visualize the results, we'll plot the ECEF x position of the first 10 GPS satellites."
   ]
  },
  {
   "cell_type": "code",
   "execution_count": null,
   "id": "76834337",
   "metadata": {},
   "outputs": [],
   "source": [
    "sp3_first_ten_gps = sp3.where(\"gnss_id\",\"gps\").where(\"sv_id\",10,\"leq\")\n",
    "fig = glp.plot_metric_by_constellation(sp3_first_ten_gps,\"gps_millis\",\"x_sv_m\")"
   ]
  }
 ],
 "metadata": {
  "kernelspec": {
   "display_name": "Python 3 (ipykernel)",
   "language": "python",
   "name": "python3"
  },
  "language_info": {
   "codemirror_mode": {
    "name": "ipython",
    "version": 3
   },
   "file_extension": ".py",
   "mimetype": "text/x-python",
   "name": "python",
   "nbconvert_exporter": "python",
   "pygments_lexer": "ipython3",
   "version": "3.8.9"
  },
  "vscode": {
   "interpreter": {
    "hash": "c7717b1dd2ec65abd747d44a25869d062db68d19263f8e701e26dddb0b153342"
   }
  }
 },
 "nbformat": 4,
 "nbformat_minor": 5
}
