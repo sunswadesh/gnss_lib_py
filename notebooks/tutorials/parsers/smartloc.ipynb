{
 "cells": [
  {
   "cell_type": "markdown",
   "id": "95e58b71",
   "metadata": {},
   "source": [
    "# TU Chemnitz SmartLoc\n"
   ]
  },
  {
   "cell_type": "markdown",
   "id": "772a5dbe",
   "metadata": {},
   "source": [
    "[![Open In Colab](https://colab.research.google.com/assets/colab-badge.svg)](https://colab.research.google.com/github/Stanford-NavLab/gnss_lib_py/blob/main/notebooks/tutorials/parsers/smartloc.ipynb)"
   ]
  },
  {
   "cell_type": "markdown",
   "id": "9ad531e3",
   "metadata": {},
   "source": [
    "This tutorial shows how to load data from TU Chemnitz's [smartLoc GNSS Dataset](https://www.tu-chemnitz.de/projekt/smartLoc/gnss_dataset.html.en#Datasets)."
   ]
  },
  {
   "cell_type": "markdown",
   "id": "d5632d85",
   "metadata": {},
   "source": [
    "Load `gnss_lib_py` into the Python workspace"
   ]
  },
  {
   "cell_type": "code",
   "execution_count": null,
   "id": "f7468fd3",
   "metadata": {},
   "outputs": [],
   "source": [
    "import gnss_lib_py as glp"
   ]
  },
  {
   "cell_type": "code",
   "execution_count": null,
   "id": "b369035d",
   "metadata": {},
   "outputs": [],
   "source": [
    "# download cropped SmartLoc data file\n",
    "glp.make_dir(\"../data\")\n",
    "!wget https://raw.githubusercontent.com/Stanford-NavLab/gnss_lib_py/main/data/unit_test/smartloc/tu_chemnitz_berlin_1_raw.csv --quiet -nc -O \"../data/smartloc.csv\"\n",
    "\n",
    "# load smartLoc data into NavData object\n",
    "smartloc_data = glp.SmartLocRaw(\"../data/smartloc.csv\")"
   ]
  },
  {
   "cell_type": "code",
   "execution_count": null,
   "id": "4dd67679",
   "metadata": {},
   "outputs": [],
   "source": [
    "# plot the pseudorange over time of each individual satellite\n",
    "# SBAS 120 is the outlier with its larger orbit\n",
    "fig = glp.plot_metric(smartloc_data, \"gps_millis\",\"raw_pr_m\", groupby=\"sv_id\")"
   ]
  },
  {
   "cell_type": "code",
   "execution_count": null,
   "id": "fe8d92d7",
   "metadata": {
    "scrolled": true
   },
   "outputs": [],
   "source": [
    "# show the ground truth smartLoc data on a map\n",
    "fig = glp.plot_map(smartloc_data)\n",
    "fig.show()"
   ]
  },
  {
   "cell_type": "markdown",
   "id": "e67e36ab",
   "metadata": {},
   "source": [
    "We have also implemented some helper functions to process `SmartlocRaw` instances.\n",
    "1. NLOS measurements, as specified in the measurements, can be removed easily using the `remove_nlos` method.\n",
    "2. The ground truth measurements are in WGS-84 frame of reference by default and they can be converted to ECEF using `calculate_gt_ecef`.\n",
    "3. Ground truth velocity and acceleration values are given as a set of local body-frame scalar value, combined with the heading angle of the vehicle. This can be easily converted to ECEF values using `calculate_gt_vel`.\n",
    "\n",
    "All of these methods create a copy of the `SmartLocRaw` instance, which is a `NavData` instance with the additional rows calculated."
   ]
  },
  {
   "cell_type": "code",
   "execution_count": null,
   "id": "a6864444",
   "metadata": {},
   "outputs": [],
   "source": [
    "# Remove NLOS\n",
    "import gnss_lib_py.parsers.smartloc as sl\n",
    "print('Total measurement instances:', len(smartloc_data))\n",
    "smartloc_data_no_nlos = sl.remove_nlos(smartloc_data)\n",
    "print('LOS measurement instances', len(smartloc_data_no_nlos))"
   ]
  },
  {
   "cell_type": "code",
   "execution_count": null,
   "id": "8109ced0",
   "metadata": {},
   "outputs": [],
   "source": [
    "# Use wildcard index to show ECEF position row does not exist\n",
    "try:\n",
    "    glp.find_wildcard_indexes(smartloc_data, \"x_*_m\")\n",
    "except KeyError as no_row_exp:\n",
    "    print(no_row_exp)\n",
    "\n",
    "# Compute ECEF ground truth position and show that row exists\n",
    "smartloc_ecef_gt = sl.calculate_gt_ecef(smartloc_data)\n",
    "print(glp.find_wildcard_indexes(smartloc_ecef_gt, \"x_*_m\"))"
   ]
  },
  {
   "cell_type": "code",
   "execution_count": null,
   "id": "0188b4ba",
   "metadata": {},
   "outputs": [],
   "source": [
    "# Use wildcard index to show that ECEF velocity rows do not exist\n",
    "try:\n",
    "    glp.find_wildcard_indexes(smartloc_data, \"vx_*_mps\")\n",
    "except KeyError as no_row_exp:\n",
    "    print(no_row_exp)\n",
    "\n",
    "# Use wildcard index to show that body frame velocity exists\n",
    "print(glp.find_wildcard_indexes(smartloc_data, \"v_*_mps\"))\n",
    "\n",
    "# Compute ECEF ground truth velocity and verify row exists\n",
    "smartloc_vel_gt = sl.calculate_gt_vel(smartloc_data)\n",
    "print(glp.find_wildcard_indexes(smartloc_vel_gt, \"vx_*_mps\"))"
   ]
  },
  {
   "cell_type": "code",
   "execution_count": null,
   "id": "a9b4dc12",
   "metadata": {},
   "outputs": [],
   "source": [
    "print(smartloc_data.rows)"
   ]
  }
 ],
 "metadata": {
  "kernelspec": {
   "display_name": "Python 3 (ipykernel)",
   "language": "python",
   "name": "python3"
  },
  "language_info": {
   "codemirror_mode": {
    "name": "ipython",
    "version": 3
   },
   "file_extension": ".py",
   "mimetype": "text/x-python",
   "name": "python",
   "nbconvert_exporter": "python",
   "pygments_lexer": "ipython3",
   "version": "3.8.9"
  },
  "vscode": {
   "interpreter": {
    "hash": "c7717b1dd2ec65abd747d44a25869d062db68d19263f8e701e26dddb0b153342"
   }
  }
 },
 "nbformat": 4,
 "nbformat_minor": 5
}
