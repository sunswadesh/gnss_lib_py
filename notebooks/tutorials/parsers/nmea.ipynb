{
 "cells": [
  {
   "cell_type": "markdown",
   "id": "b0a917b6",
   "metadata": {},
   "source": [
    "# NMEA File Parsing"
   ]
  },
  {
   "cell_type": "markdown",
   "id": "e27fd80e",
   "metadata": {},
   "source": [
    "[![Open In Colab](https://colab.research.google.com/assets/colab-badge.svg)](https://colab.research.google.com/github/Stanford-NavLab/gnss_lib_py/blob/main/notebooks/tutorials/parsers/nmea.ipynb)"
   ]
  },
  {
   "cell_type": "code",
   "execution_count": null,
   "id": "f7468fd3",
   "metadata": {},
   "outputs": [],
   "source": [
    "import gnss_lib_py as glp"
   ]
  },
  {
   "cell_type": "markdown",
   "id": "f166df97",
   "metadata": {},
   "source": [
    "NMEA is a file standard for storing and transferring position data and GPS measurements.\n",
    "`gnss_lib_py` has functionality for reading NMEA files and loading the data into a `NavData`, which we demonstrate next."
   ]
  },
  {
   "cell_type": "markdown",
   "id": "aa0ea320",
   "metadata": {},
   "source": [
    "Each NMEA sentence has a header eg. `$GPGGA` which describes whether the message is propreitary or general purpose and the type of message.\n",
    "In this case, the message is `GGA`. `gnss_lib_py` currently supports `GGA` and `RMC` message types.\n",
    "\n",
    "Each NMEA sentence also comes with a checksum, which may appear after the '*' in each sentence.\n",
    "In case the checksums are to be checked, pass the parameter `check=True` to the `Nmea` initialization."
   ]
  },
  {
   "cell_type": "code",
   "execution_count": null,
   "id": "cbae66a6",
   "metadata": {},
   "outputs": [],
   "source": [
    "# download NMEA data and load it into NavData instance\n",
    "glp.make_dir(\"../data\")\n",
    "!wget https://raw.githubusercontent.com/Stanford-NavLab/gnss_lib_py/main/data/unit_test/nmea/nmea_w_correct_checksum.nmea --quiet -nc -O \"../data/nmea_w_correct_checksum.nmea\"\n",
    "# Load the NMEA file into a NavData structure\n",
    "nmea_navdata = glp.Nmea('../data/nmea_w_correct_checksum.nmea')\n",
    "print('Loaded NMEA data\\n', nmea_navdata)"
   ]
  },
  {
   "cell_type": "markdown",
   "id": "6606e32a",
   "metadata": {},
   "source": [
    "If the checksum is not to be checked, pass the parameter `check=False` to the initialization."
   ]
  },
  {
   "cell_type": "code",
   "execution_count": null,
   "id": "81034771",
   "metadata": {},
   "outputs": [],
   "source": [
    "glp.make_dir(\"../data\")\n",
    "!wget https://raw.githubusercontent.com/Stanford-NavLab/gnss_lib_py/main/data/unit_test/nmea/nmea_no_checksum.nmea --quiet -nc -O \"../data/nmea_w_no_checksum.nmea\"\n",
    "# Load the NMEA file into a NavData structure\n",
    "nmea_navdata = glp.Nmea('../data/nmea_w_no_checksum.nmea', check=False)\n",
    "print('Loaded NMEA data\\n', nmea_navdata)"
   ]
  },
  {
   "cell_type": "markdown",
   "id": "a87c37c2",
   "metadata": {},
   "source": [
    "NMEA GGA and RMC sentences store latitude and longitude coordinates in a `ddmm.mmmmmmm` format along with a cardinal direction like `N` or `W`.\n",
    "\n",
    "By default, these coordinates are transformed into decimal degrees but the original data format can be retained in the final loaded `NavData`.\n",
    "Also, the LLH coordinates can be transformed to ECEF coordinates."
   ]
  },
  {
   "cell_type": "code",
   "execution_count": null,
   "id": "a74a2f16",
   "metadata": {},
   "outputs": [],
   "source": [
    "nmea_navdata = glp.Nmea('../data/nmea_w_correct_checksum.nmea', keep_raw=True, include_ecef=True)\n",
    "print('Loaded NMEA data with raw data and ECEF coordinates\\n', nmea_navdata)"
   ]
  }
 ],
 "metadata": {
  "kernelspec": {
   "display_name": "Python 3 (ipykernel)",
   "language": "python",
   "name": "python3"
  },
  "language_info": {
   "codemirror_mode": {
    "name": "ipython",
    "version": 3
   },
   "file_extension": ".py",
   "mimetype": "text/x-python",
   "name": "python",
   "nbconvert_exporter": "python",
   "pygments_lexer": "ipython3",
   "version": "3.8.9"
  },
  "vscode": {
   "interpreter": {
    "hash": "c7717b1dd2ec65abd747d44a25869d062db68d19263f8e701e26dddb0b153342"
   }
  }
 },
 "nbformat": 4,
 "nbformat_minor": 5
}
