{
 "cells": [
  {
   "cell_type": "markdown",
   "id": "28b068e2",
   "metadata": {},
   "source": [
    "# Time Conversions"
   ]
  },
  {
   "cell_type": "markdown",
   "id": "768262a9",
   "metadata": {},
   "source": [
    "[![Open In Colab](https://colab.research.google.com/assets/colab-badge.svg)](https://colab.research.google.com/github/Stanford-NavLab/gnss_lib_py/blob/main/notebooks/tutorials/utils/time_conversions.ipynb)"
   ]
  },
  {
   "cell_type": "markdown",
   "id": "07f3d8f4",
   "metadata": {},
   "source": [
    "Time conversion utilities exist between the four modes of time that we use in `gnss_lib_py`.\n",
    "The four are:\n",
    "1. GPS Week since epoch start and time of week in seconds\n",
    "2. GPS milliseconds since start of GPS Epoch\n",
    "3. Unix milliseconds since start of unix epoch \n",
    "4. Python datetime objects (timezone assumed to be UTC if none provided).\n",
    "\n",
    "Functionality exists for all 12 combinations of conversions between the four time instances, but here we show just a few examples. Other functionality is available in `gnss_lib_py/utils/time_conversions.py`."
   ]
  },
  {
   "cell_type": "code",
   "execution_count": null,
   "id": "60e040a3",
   "metadata": {},
   "outputs": [],
   "source": [
    "from datetime import datetime, timezone\n",
    "import gnss_lib_py as glp"
   ]
  },
  {
   "cell_type": "markdown",
   "id": "a4ff4bdc",
   "metadata": {},
   "source": [
    "Methods to convert `datetime` to the other types of time instances."
   ]
  },
  {
   "cell_type": "code",
   "execution_count": null,
   "id": "7ab38367",
   "metadata": {},
   "outputs": [],
   "source": [
    "time_now = datetime.now(tz=timezone.utc)\n",
    "print(f'Datetime {time_now}')\n",
    "\n",
    "# convert datetime to GPS week and GPS time of week\n",
    "gps_week, gps_tow = glp.datetime_to_tow(time_now)\n",
    "print(f\"gps week: {gps_week} gps tow: {gps_tow}\")\n",
    "\n",
    "# convert datetime to GPS milliseconds\n",
    "gps_millis = glp.datetime_to_gps_millis(time_now)\n",
    "print(f\"GPS milliseconds: {gps_millis}\")\n",
    "\n",
    "# convert datetime to UNIX milliseconds\n",
    "unix_millis = glp.datetime_to_unix_millis(time_now)\n",
    "print(f\"UNIX milliseconds: {unix_millis}\")"
   ]
  },
  {
   "cell_type": "markdown",
   "id": "809766a0",
   "metadata": {},
   "source": [
    "In many cases, the timezone attribute is required. If it is not present, conversion functions will assume that the timezone is UTC and add the timezone information after raising a warning."
   ]
  },
  {
   "cell_type": "code",
   "execution_count": null,
   "id": "23f504b3",
   "metadata": {},
   "outputs": [],
   "source": [
    "local_time_without_tz = datetime.now()\n",
    "print(f'Datetime without timezone {local_time_without_tz}')\n",
    "gps_millis_without_tz = glp.datetime_to_gps_millis(local_time_without_tz)\n",
    "\n",
    "print(f\"GPS milliseconds without timezone: {gps_millis_without_tz}\")"
   ]
  },
  {
   "cell_type": "markdown",
   "id": "2e5b351a",
   "metadata": {},
   "source": [
    "As seen by the example above, `datetime.now()` returns time without time zone information but in the local time zone.\n",
    "Time converstion functions assume that this time is in UTC time zone even when it is not and users should be careful about what timezone their input time is in before converting it.\n",
    "To ensure that the correct time zone is being used, use the `pytz` module to assign the right time zone as shown below.\n",
    "\n",
    "If you are using `Python>=3.9`, you can use the inbuilt `zoneinfo.ZoneInfo` class instead of `pytz.timezone` as well."
   ]
  },
  {
   "cell_type": "code",
   "execution_count": null,
   "id": "7d4b207a",
   "metadata": {},
   "outputs": [],
   "source": [
    "import pytz\n",
    "local_time_without_tz = datetime.now()\n",
    "local_time_with_tz = local_time_without_tz.replace(tzinfo=pytz.timezone(\"America/Los_Angeles\"))\n",
    "print('Datetime with timezone', local_time_with_tz)\n",
    "gps_millis_local_time = glp.datetime_to_gps_millis(local_time_with_tz)\n",
    "print(f\"GPS milliseconds with local timezone: {gps_millis_local_time}\")"
   ]
  },
  {
   "cell_type": "markdown",
   "id": "a147a343",
   "metadata": {},
   "source": [
    "Methods to convert GPS week and GPS time of week to the other types of time instances."
   ]
  },
  {
   "cell_type": "code",
   "execution_count": null,
   "id": "528d207b",
   "metadata": {},
   "outputs": [],
   "source": [
    "# convert GPS week and GPS time of week to datetime\n",
    "datetime = glp.tow_to_datetime(gps_week, gps_tow)\n",
    "print(\"datetime in UTC: \",datetime.strftime(\"%d %B, %Y %H:%M:%S\"))\n",
    "\n",
    "# convert GPS week and GPS time to GPS milliseconds\n",
    "gps_millis = glp.tow_to_gps_millis(gps_week, gps_tow)\n",
    "print(f\"GPS milliseconds: {gps_millis}\")\n",
    "\n",
    "# convert GPS week and GPS time to UNIX milliseconds\n",
    "unix_millis = glp.tow_to_unix_millis(gps_week, gps_tow)\n",
    "print(f\"UNIX milliseconds: {unix_millis}\")"
   ]
  },
  {
   "cell_type": "markdown",
   "id": "01237ead",
   "metadata": {},
   "source": [
    "Methods to convert GPS milliseconds to other types of time instances."
   ]
  },
  {
   "cell_type": "code",
   "execution_count": null,
   "id": "e12ccd20",
   "metadata": {},
   "outputs": [],
   "source": [
    "# convert GPS milliseconds to datetime\n",
    "datetime = glp.gps_millis_to_datetime(gps_millis)\n",
    "print(\"datetime in UTC: \",datetime.strftime(\"%d %B, %Y %H:%M:%S\"))\n",
    "\n",
    "# convert GPS milliseconds to GPS week and GPS time\n",
    "gps_week, gps_tow = glp.gps_millis_to_tow(gps_millis)\n",
    "print(f\"gps week: {gps_week} gps tow: {gps_tow}\")\n",
    "\n",
    "# convert GPS milliseconds to UNIX milliseconds\n",
    "unix_millis = glp.gps_to_unix_millis(gps_millis)\n",
    "print(f\"UNIX milliseconds: {unix_millis}\")"
   ]
  },
  {
   "cell_type": "markdown",
   "id": "2e58b4ae",
   "metadata": {},
   "source": [
    "Methods to convert UNIX milliseconds to other types of time instances."
   ]
  },
  {
   "cell_type": "code",
   "execution_count": null,
   "id": "6367a59d",
   "metadata": {},
   "outputs": [],
   "source": [
    "# convert UNIX milliseconds to datetime\n",
    "datetime = glp.unix_millis_to_datetime(unix_millis)\n",
    "print(\"datetime in UTC: \",datetime.strftime(\"%d %B, %Y %H:%M:%S\"))\n",
    "\n",
    "# convert UNIX milliseconds to GPS week and GPS time\n",
    "gps_week, gps_tow = glp.unix_millis_to_tow(unix_millis)\n",
    "print(f\"gps week: {gps_week} gps tow: {gps_tow}\")\n",
    "\n",
    "# convert GPS milliseconds to UNIX milliseconds\n",
    "gps_millis = glp.unix_to_gps_millis(unix_millis)\n",
    "print(f\"GPS milliseconds: {gps_millis}\")"
   ]
  }
 ],
 "metadata": {
  "kernelspec": {
   "display_name": "Python 3",
   "language": "python",
   "name": "python3"
  },
  "language_info": {
   "codemirror_mode": {
    "name": "ipython",
    "version": 3
   },
   "file_extension": ".py",
   "mimetype": "text/x-python",
   "name": "python",
   "nbconvert_exporter": "python",
   "pygments_lexer": "ipython3",
   "version": "3.8.9"
  }
 },
 "nbformat": 4,
 "nbformat_minor": 5
}
