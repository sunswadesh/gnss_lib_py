{
 "cells": [
  {
   "cell_type": "markdown",
   "metadata": {},
   "source": [
    "# Coordinate Conversions"
   ]
  },
  {
   "cell_type": "markdown",
   "metadata": {},
   "source": [
    "[![Open In Colab](https://colab.research.google.com/assets/colab-badge.svg)](https://colab.research.google.com/github/Stanford-NavLab/gnss_lib_py/blob/main/notebooks/tutorials/utils/coordinates.ipynb)"
   ]
  },
  {
   "cell_type": "code",
   "execution_count": null,
   "metadata": {},
   "outputs": [],
   "source": [
    "import numpy as np\n",
    "import gnss_lib_py as glp"
   ]
  },
  {
   "cell_type": "markdown",
   "metadata": {},
   "source": [
    "ECEF coordinates for positions can be converted to LLA and back by\n",
    "using functions defined in `utils/coordinates.py`"
   ]
  },
  {
   "cell_type": "code",
   "execution_count": null,
   "metadata": {},
   "outputs": [],
   "source": [
    "# Using the LLA coordinates the Aero/Astro department at Stanford University\n",
    "x_lla = np.array([[37.427112], [-122.1764146], [16]])\n",
    "print('Converted ECEF coordinates')\n",
    "print(glp.geodetic_to_ecef(x_lla))\n",
    "\n",
    "x_ecef = np.array([[-2700628], [-4292443], [3855152]])\n",
    "print('Converted LLA coordinates')\n",
    "print(glp.ecef_to_geodetic(x_ecef))"
   ]
  },
  {
   "cell_type": "markdown",
   "metadata": {},
   "source": [
    "When using a `NavData` instance with multiple ECEF coordinates, the ECEF\n",
    "coordinates can be accessed from the `NavData` and then passed to the\n",
    "coordinate conversion function.\n",
    "\n",
    "The obtained values can be assigned as rows to the `NavData` instance where\n",
    "needed."
   ]
  },
  {
   "cell_type": "code",
   "execution_count": null,
   "metadata": {},
   "outputs": [],
   "source": [
    "# load Android Google Challenge data\n",
    "glp.make_dir(\"../data\")\n",
    "!wget https://raw.githubusercontent.com/Stanford-NavLab/gnss_lib_py/main/data/unit_test/google_decimeter_2022/device_gnss.csv --quiet -nc -O \"../data/device_gnss.csv\"\n",
    "navdata = glp.AndroidDerived2022(\"../data/device_gnss.csv\")\n",
    "pos_rx_ecef = navdata[[\"x_rx_m\",\"y_rx_m\",\"z_rx_m\"]]\n",
    "pos_rx_lla = glp.ecef_to_geodetic(pos_rx_ecef)\n",
    "# can also use pos_rx_lla = glp.ecef_to_geodetic(navdata[[\"x_rx_m\",\"y_rx_m\",\"z_rx_m\"]])\n",
    "print(pos_rx_lla[:, :4])"
   ]
  },
  {
   "cell_type": "markdown",
   "metadata": {},
   "source": [
    "The output maintains the shape of the input, so in this case the first row is latitude, second is longitude, and third is altitude above the WGS-84 datum.\n",
    "These rows can be assigned to the `NavData` by accessing the array"
   ]
  },
  {
   "cell_type": "markdown",
   "metadata": {},
   "source": [
    "## Local NED Frame Conversions"
   ]
  },
  {
   "cell_type": "markdown",
   "metadata": {},
   "source": [
    "A local North-East-Down (NED) frame of reference can be instantiated\n",
    "by defining the point at the origin of the coordinate frame using either\n",
    "its ECEF position or LLA (w.r.t the WGS-84 ellipsoid) coordinates"
   ]
  },
  {
   "cell_type": "code",
   "execution_count": null,
   "metadata": {},
   "outputs": [],
   "source": [
    "# Instantiate using LLA coordinates\n",
    "local_frame = glp.LocalCoord.from_geodetic(x_lla)\n",
    "print('NED to ECEF conversion matrix for initialized local frame')\n",
    "print(local_frame.ned_to_ecef_matrix)\n",
    "\n",
    "local_frame = glp.LocalCoord.from_ecef(x_ecef)\n",
    "print('NED to ECEF conversion matrix for initialized local frame')\n",
    "print(local_frame.ned_to_ecef_matrix)"
   ]
  },
  {
   "cell_type": "markdown",
   "metadata": {},
   "source": [
    "Once initialized, the `local_frame` can be used to convert position\n",
    "vectors to NED from ECEF or LLA and vice-versa"
   ]
  },
  {
   "cell_type": "code",
   "execution_count": null,
   "metadata": {},
   "outputs": [],
   "source": [
    "ned = local_frame.ecef_to_ned(x_ecef)\n",
    "print('The converted NED coordinates are')\n",
    "print(ned)\n",
    "\n",
    "ecef = local_frame.ned_to_ecef(ned)\n",
    "print('The converted ECEF coordinates are')\n",
    "print(ecef)\n",
    "\n",
    "lla = local_frame.ned_to_geodetic(ned)\n",
    "print('The converted LLA coordinates are')\n",
    "print(lla)"
   ]
  },
  {
   "cell_type": "markdown",
   "metadata": {},
   "source": [
    "The `local_frame` can also be used to convert free vectors in the NED\n",
    "frame of reference to free vectors in the ECEF frame of reference"
   ]
  },
  {
   "cell_type": "code",
   "execution_count": null,
   "metadata": {},
   "outputs": [],
   "source": [
    "v_vect = np.array([[1], [0], [0]])\n",
    "v_ned = local_frame.ned_to_ecefv(v_vect)\n",
    "print('The converted free vector in ECEF is')\n",
    "print(v_ned)\n",
    "v_ecef = local_frame.ecef_to_nedv(v_ned)\n",
    "print('The converted free vector in NED is ')\n",
    "print(v_ecef)"
   ]
  },
  {
   "cell_type": "markdown",
   "metadata": {},
   "source": [
    "If you want to use ENU local frame of reference instead, the resultant\n",
    "coordinates can be matrix multipled by the corresponding rotation matrix."
   ]
  },
  {
   "cell_type": "code",
   "execution_count": null,
   "metadata": {},
   "outputs": [],
   "source": [
    "ned_to_enu_rot_mat = np.array([[0, 1, 0],\n",
    "                               [1, 0, 0],\n",
    "                               [0, 0, -1]])"
   ]
  },
  {
   "cell_type": "markdown",
   "metadata": {},
   "source": [
    "## Elevation and Aziumth from ECEF Positions"
   ]
  },
  {
   "cell_type": "markdown",
   "metadata": {},
   "source": [
    "Find elevation and azimuth angle from receiver and satellite ECEF positions."
   ]
  },
  {
   "cell_type": "code",
   "execution_count": null,
   "metadata": {},
   "outputs": [],
   "source": [
    "# For this case, only use data from first timestep\n",
    "navdata_subset = navdata.where(\"gps_millis\",navdata[\"gps_millis\",0])"
   ]
  },
  {
   "cell_type": "markdown",
   "metadata": {},
   "source": [
    "To calculate the elevation and azimuth, pass in the receiver and satellites' ECEF positions."
   ]
  },
  {
   "cell_type": "code",
   "execution_count": null,
   "metadata": {},
   "outputs": [],
   "source": [
    "pos_sv_m = navdata_subset[[\"x_sv_m\",\"y_sv_m\",\"z_sv_m\"]]\n",
    "pos_rx_m = navdata_subset[[\"x_rx_m\",\"y_rx_m\",\"z_rx_m\"],0].reshape(-1,1)\n",
    "\n",
    "calculated_el_az = glp.ecef_to_el_az(pos_rx_m,pos_sv_m)\n",
    "truth_el_az = navdata_subset[[\"el_sv_deg\",\"az_sv_deg\"]]"
   ]
  },
  {
   "cell_type": "markdown",
   "metadata": {},
   "source": [
    "We can now compare the calculated elevation and azimuth with their respective \"truth\" values included in the Google Decimeter Challenge 2022 dataset."
   ]
  },
  {
   "cell_type": "code",
   "execution_count": null,
   "metadata": {},
   "outputs": [],
   "source": [
    "for sat_idx in range(3):\n",
    "    print(f\"SV ID: {int(navdata_subset['sv_id',sat_idx])}\")\n",
    "    print(f\"Calculated elevation: {calculated_el_az[0, sat_idx]}, Truth elevation: {truth_el_az[0, sat_idx]}\")\n",
    "    print(f\"Calculated azimuth: {calculated_el_az[1, sat_idx]}, Truth azimuth: {truth_el_az[1, sat_idx]}\")"
   ]
  }
 ],
 "metadata": {
  "kernelspec": {
   "display_name": "Python 3 (ipykernel)",
   "language": "python",
   "name": "python3"
  },
  "language_info": {
   "codemirror_mode": {
    "name": "ipython",
    "version": 3
   },
   "file_extension": ".py",
   "mimetype": "text/x-python",
   "name": "python",
   "nbconvert_exporter": "python",
   "pygments_lexer": "ipython3",
   "version": "3.8.9"
  },
  "vscode": {
   "interpreter": {
    "hash": "c7717b1dd2ec65abd747d44a25869d062db68d19263f8e701e26dddb0b153342"
   }
  }
 },
 "nbformat": 4,
 "nbformat_minor": 4
}
