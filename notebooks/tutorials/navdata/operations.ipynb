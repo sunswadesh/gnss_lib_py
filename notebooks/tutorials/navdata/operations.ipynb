{
 "cells": [
  {
   "cell_type": "markdown",
   "metadata": {},
   "source": [
    "# NavData Operations"
   ]
  },
  {
   "cell_type": "markdown",
   "metadata": {},
   "source": [
    "[![Open In Colab](https://colab.research.google.com/assets/colab-badge.svg)](https://colab.research.google.com/github/Stanford-NavLab/gnss_lib_py/blob/main/notebooks/tutorials/navdata/operations.ipynb)"
   ]
  },
  {
   "cell_type": "markdown",
   "metadata": {},
   "source": [
    "This tutorial shows how to perform funtional operations on instances of \n",
    "the `NavData` class, such as looping across a time row in a `NavData` instance,\n",
    "concatenating multiple instances together, sorting a `NavData` instance \n",
    "based on the values in a particular row, and interpolating any NaN values."
   ]
  },
  {
   "cell_type": "code",
   "execution_count": null,
   "metadata": {},
   "outputs": [],
   "source": [
    "import gnss_lib_py as glp"
   ]
  },
  {
   "cell_type": "code",
   "execution_count": null,
   "metadata": {},
   "outputs": [],
   "source": [
    "# Get data path of example file\n",
    "glp.make_dir(\"../data\")\n",
    "!wget https://raw.githubusercontent.com/Stanford-NavLab/gnss_lib_py/main/notebooks/tutorials/data/myreceiver.csv --quiet -nc -O \"../data/myreceiver.csv\"\n",
    "data_path = \"../data/myreceiver.csv\""
   ]
  },
  {
   "cell_type": "markdown",
   "metadata": {},
   "source": [
    "Create a NavData class from a csv file"
   ]
  },
  {
   "cell_type": "code",
   "execution_count": null,
   "metadata": {},
   "outputs": [],
   "source": [
    "navdata = glp.NavData(csv_path=data_path)\n",
    "print(navdata)"
   ]
  },
  {
   "cell_type": "markdown",
   "metadata": {},
   "source": [
    "## Looping across a Time Row"
   ]
  },
  {
   "cell_type": "markdown",
   "metadata": {},
   "source": [
    "You can use the `NavData.loop_time()` method to loop over groups of data that belong to same time stamp."
   ]
  },
  {
   "cell_type": "code",
   "execution_count": null,
   "metadata": {},
   "outputs": [],
   "source": [
    "for timestamp, delta_t, navdata_subset in glp.loop_time(navdata,'myTimestamp'):\n",
    "    print('Current timestamp: ', timestamp)\n",
    "    print('Difference between current and future time step', delta_t)\n",
    "    print('Current group of data')\n",
    "    print(navdata_subset)"
   ]
  },
  {
   "cell_type": "markdown",
   "metadata": {},
   "source": [
    "## Concatenating NavData Instances"
   ]
  },
  {
   "cell_type": "markdown",
   "metadata": {},
   "source": [
    "Use the `glp.concat()` method to concatenate two or more `NavData` instances. Each type of data is included in a row, so adding new rows with ``axis=0``, means adding new types of data. Concat requires that the new NavData matches the length of the existing NavData. Row concatenation assumes the same ordering within rows across both NavData instances (e.g. sorted by timestamp) and does not perform any matching/sorting itself. If the concatenating navdatas share a column name with ``axis=0`` then concat will add a suffix to create a unique row name."
   ]
  },
  {
   "cell_type": "code",
   "execution_count": null,
   "metadata": {},
   "outputs": [],
   "source": [
    "double_navdata = glp.concat(navdata, navdata, axis=0)\n",
    "double_navdata"
   ]
  },
  {
   "cell_type": "markdown",
   "metadata": {},
   "source": [
    "You can also concatenate new data to existing rows with ``axis=1``. If the row names of the new NavData instance don't match the row names ofthe existing NavData instance, the mismatched values will be filled with np.nan."
   ]
  },
  {
   "cell_type": "code",
   "execution_count": null,
   "metadata": {},
   "outputs": [],
   "source": [
    "glp.concat(double_navdata, navdata, axis=1)"
   ]
  },
  {
   "cell_type": "markdown",
   "metadata": {},
   "source": [
    "## Sorting a NavData Instance based on Row Values"
   ]
  },
  {
   "cell_type": "markdown",
   "metadata": {},
   "source": [
    "An entire `NavData` instance can be sorted based on the values in a specified\n",
    "row or to match a previously determined order.\n",
    "\n",
    "This operation can be performed in place using the argument `inplace = True`.\n",
    "In this case, the `sort` function returns `None` and modifies the input `NavData`\n",
    "in existing memory. If `inplace=False`, a new sorted `NavData` is returned."
   ]
  },
  {
   "cell_type": "code",
   "execution_count": null,
   "metadata": {},
   "outputs": [],
   "source": [
    "# Generate a new row with random numbers\n",
    "import numpy as np\n",
    "new_row = np.arange(len(navdata))\n",
    "np.random.shuffle(new_row)\n",
    "#Add a new row with random numbers to the existing NavData\n",
    "navdata['random_row'] = new_row\n",
    "print('New NavData \\n', navdata)\n"
   ]
  },
  {
   "cell_type": "markdown",
   "metadata": {},
   "source": [
    "Sort in ascending order"
   ]
  },
  {
   "cell_type": "code",
   "execution_count": null,
   "metadata": {},
   "outputs": [],
   "source": [
    "print('Ascending order sorted NavData')\n",
    "print(glp.sort(navdata, order='random_row'))"
   ]
  },
  {
   "cell_type": "markdown",
   "metadata": {},
   "source": [
    "Sort in descending order"
   ]
  },
  {
   "cell_type": "code",
   "execution_count": null,
   "metadata": {},
   "outputs": [],
   "source": [
    "print('Descending order sorted NavData')\n",
    "print(glp.sort(navdata, order='random_row', ascending=False))"
   ]
  },
  {
   "cell_type": "markdown",
   "metadata": {},
   "source": [
    "Sort using indices given by an externally determined order"
   ]
  },
  {
   "cell_type": "code",
   "execution_count": null,
   "metadata": {},
   "outputs": [],
   "source": [
    "#find indices corresponding to external order of sorting\n",
    "sort_order = np.argsort(new_row)\n",
    "print('Sorted using externally determined indices')\n",
    "print(glp.sort(navdata, ind=sort_order))"
   ]
  },
  {
   "cell_type": "markdown",
   "metadata": {},
   "source": [
    "## Interpolate NaN values in a NavData Row"
   ]
  },
  {
   "cell_type": "markdown",
   "metadata": {},
   "source": [
    "Some algorithms might not return results for some time instances or samples, leading to a situation where the `NaN` values have to be replaced with values interpolated between known topics.\n",
    "In this case, we can use the `glp.interpolate` function with corresponding attributes for the x-axis and y-axis values to interpolate and replace the `NaN` values."
   ]
  },
  {
   "cell_type": "code",
   "execution_count": null,
   "metadata": {},
   "outputs": [],
   "source": [
    "#Create a new y-axis row with some NaN values\n",
    "nan_row_x = np.arange(len(navdata)).astype(np.float64)\n",
    "nan_row_y = np.arange(len(navdata)).astype(np.float64)\n",
    "nan_indices = [1, 3, 4, 6]\n",
    "nan_row_y[nan_indices] = np.nan\n",
    "#Set these rows in the navdata\n",
    "navdata['nan_row_x'] = nan_row_x\n",
    "navdata['nan_row_y'] = nan_row_y\n",
    "print('NavData with NaN values \\n', navdata)\n",
    "\n",
    "#Interpolate the NaN values\n",
    "glp.interpolate(navdata, 'nan_row_x', 'nan_row_y', inplace=True)\n",
    "print('NavData values with interpolated values \\n', navdata)\n",
    "\n"
   ]
  },
  {
   "cell_type": "markdown",
   "metadata": {},
   "source": [
    "## Find row names that correspond to a particular pattern"
   ]
  },
  {
   "cell_type": "markdown",
   "metadata": {},
   "source": [
    "In some cases, row names follow a pattern but the exact row name might be unknown.\n",
    "These cases might happen when the row name also mentions the algorithm used to obtain the estimate but downstream processing does not care about this distinction.\n",
    "In this case, we can use the `find_wildcard_indexes` function to extract the relavant row names.\n",
    "\n",
    "This method returns a dictionary where the wildcard query is the key and \n",
    "the found row names are the columns."
   ]
  },
  {
   "cell_type": "code",
   "execution_count": null,
   "metadata": {},
   "outputs": [],
   "source": [
    "print(glp.find_wildcard_indexes(navdata, 'nan_*_x', max_allow=1))\n",
    "navdata['nan_col_x'] = 0\n",
    "print(glp.find_wildcard_indexes(navdata, 'nan_*_x'))"
   ]
  },
  {
   "cell_type": "markdown",
   "metadata": {},
   "source": [
    "This function can also be used to exclude certain wildcards or allow only\n",
    "one row name using functional attributes. If `max_allow=1` is used when\n",
    "there are more than `max_allow` entries, the function will raise a `KeyError`"
   ]
  },
  {
   "cell_type": "code",
   "execution_count": null,
   "metadata": {},
   "outputs": [],
   "source": [
    "try:\n",
    "    glp.find_wildcard_indexes(navdata, 'nan_*_x', max_allow=1)\n",
    "except KeyError as excp:\n",
    "    print('Error:', excp)"
   ]
  }
 ],
 "metadata": {
  "kernelspec": {
   "display_name": "Python 3 (ipykernel)",
   "language": "python",
   "name": "python3"
  },
  "language_info": {
   "codemirror_mode": {
    "name": "ipython",
    "version": 3
   },
   "file_extension": ".py",
   "mimetype": "text/x-python",
   "name": "python",
   "nbconvert_exporter": "python",
   "pygments_lexer": "ipython3",
   "version": "3.8.9"
  },
  "vscode": {
   "interpreter": {
    "hash": "c7717b1dd2ec65abd747d44a25869d062db68d19263f8e701e26dddb0b153342"
   }
  }
 },
 "nbformat": 4,
 "nbformat_minor": 4
}
