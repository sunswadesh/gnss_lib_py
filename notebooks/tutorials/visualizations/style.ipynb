{
 "cells": [
  {
   "cell_type": "markdown",
   "id": "9e484cdf-e507-4ad2-ada0-1df5c2914275",
   "metadata": {},
   "source": [
    "# Plotting Style"
   ]
  },
  {
   "cell_type": "markdown",
   "id": "2fbebbd3",
   "metadata": {},
   "source": [
    "[![Open In Colab](https://colab.research.google.com/assets/colab-badge.svg)](https://colab.research.google.com/github/Stanford-NavLab/gnss_lib_py/blob/main/notebooks/tutorials/visualizations/style.ipynb)"
   ]
  },
  {
   "cell_type": "markdown",
   "id": "952766c1",
   "metadata": {},
   "source": [
    "The `visualizations.py` file contains several plotting functionalities. We'll use some existing data to demonstrate their functionality.\n",
    "\n",
    "**Note:** In this case, the example data is filtered to be seconds apart, in the regular\n",
    "setting, such measurements would be removed. To prevent this from happening,\n",
    "we set remove_timing_outliers to False here. For the full dataset, set this flag to True"
   ]
  },
  {
   "cell_type": "code",
   "execution_count": null,
   "id": "cce0e69e",
   "metadata": {},
   "outputs": [],
   "source": [
    "import gnss_lib_py as glp\n",
    "\n",
    "# load Android Google Challenge data\n",
    "glp.make_dir(\"../data\")\n",
    "!wget https://raw.githubusercontent.com/Stanford-NavLab/gnss_lib_py/main/data/unit_test/google_decimeter_2021/Pixel4XL_derived.csv --quiet -nc -O \"../data/Pixel4XL_derived.csv\"\n",
    "derived_data = glp.AndroidDerived2021(\"../data/Pixel4XL_derived.csv\", remove_timing_outliers=False)"
   ]
  },
  {
   "cell_type": "markdown",
   "id": "3673683a",
   "metadata": {},
   "source": [
    "Since `NavData` is simply a data structure, you can still pull values from it and use standard Python plotting tools like `matplotlib`."
   ]
  },
  {
   "cell_type": "code",
   "execution_count": null,
   "id": "47b4753e",
   "metadata": {
    "scrolled": true
   },
   "outputs": [],
   "source": [
    "import matplotlib.pyplot as plt\n",
    "plt.scatter(derived_data[\"gps_millis\"],derived_data[\"raw_pr_m\"])\n",
    "plt.xlabel(\"GPS Milliseconds\")\n",
    "plt.ylabel(\"Raw Pseudorange [m]\")\n",
    "plt.title(\"Matplotlib Plotting Example\")\n",
    "plt.show()"
   ]
  }
 ],
 "metadata": {
  "kernelspec": {
   "display_name": "Python 3 (ipykernel)",
   "language": "python",
   "name": "python3"
  },
  "language_info": {
   "codemirror_mode": {
    "name": "ipython",
    "version": 3
   },
   "file_extension": ".py",
   "mimetype": "text/x-python",
   "name": "python",
   "nbconvert_exporter": "python",
   "pygments_lexer": "ipython3",
   "version": "3.8.9"
  }
 },
 "nbformat": 4,
 "nbformat_minor": 5
}
