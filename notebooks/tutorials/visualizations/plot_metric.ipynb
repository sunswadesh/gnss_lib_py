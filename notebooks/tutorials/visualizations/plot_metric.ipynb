{
 "cells": [
  {
   "cell_type": "markdown",
   "id": "0194ecce",
   "metadata": {},
   "source": [
    "# Plot Metric"
   ]
  },
  {
   "cell_type": "markdown",
   "id": "eb8ee7dd",
   "metadata": {},
   "source": [
    "[![Open In Colab](https://colab.research.google.com/assets/colab-badge.svg)](https://colab.research.google.com/github/Stanford-NavLab/gnss_lib_py/blob/main/notebooks/tutorials/visualizations/plot_metric.ipynb)"
   ]
  },
  {
   "cell_type": "code",
   "execution_count": null,
   "id": "cce0e69e",
   "metadata": {},
   "outputs": [],
   "source": [
    "import gnss_lib_py as glp\n",
    "\n",
    "# load Android Google Challenge data\n",
    "glp.make_dir(\"../data\")\n",
    "!wget https://raw.githubusercontent.com/Stanford-NavLab/gnss_lib_py/main/data/unit_test/google_decimeter_2021/Pixel4XL_derived.csv --quiet -nc -O \"../data/Pixel4XL_derived.csv\"\n",
    "derived_data = glp.AndroidDerived2021(\"../data/Pixel4XL_derived.csv\", remove_timing_outliers=False)"
   ]
  },
  {
   "cell_type": "markdown",
   "id": "952766c1",
   "metadata": {},
   "source": [
    "**Note:** In this case, the example data is filtered to be seconds apart, in the regular\n",
    "setting, such measurements would be removed. To prevent this from happening,\n",
    "we set remove_timing_outliers to False here. For the full dataset, set this flag to True"
   ]
  },
  {
   "cell_type": "markdown",
   "id": "95499a4e-9fc8-4412-904f-1cec5eed7d55",
   "metadata": {},
   "source": [
    "## Plot Metric"
   ]
  },
  {
   "cell_type": "markdown",
   "id": "b8d0b63e",
   "metadata": {},
   "source": [
    "`plot_metric` is the most basic plotting function to plot a row. You need to input the `navdata` object and what row(s) you want to plot. For single rows, it will plot against a default index."
   ]
  },
  {
   "cell_type": "code",
   "execution_count": null,
   "id": "bda6ead3",
   "metadata": {},
   "outputs": [],
   "source": [
    "glonass_data = derived_data.where(\"gnss_id\",\"glonass\")\n",
    "fig = glp.plot_metric(glonass_data, \"raw_pr_m\", linestyle=\"None\")"
   ]
  },
  {
   "cell_type": "markdown",
   "id": "8b2b6b76",
   "metadata": {},
   "source": [
    "You can also use `plot_metric` to plot two rows against each other."
   ]
  },
  {
   "cell_type": "code",
   "execution_count": null,
   "id": "e170db19",
   "metadata": {},
   "outputs": [],
   "source": [
    "fig = glp.plot_metric(glonass_data, \"iono_delay_m\", \"tropo_delay_m\", linestyle=\"none\")"
   ]
  },
  {
   "cell_type": "markdown",
   "id": "99310de6",
   "metadata": {},
   "source": [
    "For a more informative plot, you can also use the `groupby` flag to choose a row by which to group."
   ]
  },
  {
   "cell_type": "code",
   "execution_count": null,
   "id": "c48acd91",
   "metadata": {
    "scrolled": true
   },
   "outputs": [],
   "source": [
    "fig = glp.plot_metric(glonass_data, \"iono_delay_m\", \"tropo_delay_m\", groupby=\"sv_id\")"
   ]
  },
  {
   "cell_type": "markdown",
   "id": "d30bb9be",
   "metadata": {},
   "source": [
    "`plot_metric` also allows you to pass in arbitrary arguments to the `matplotlib.pyplot.plot` function call as additional arguments like `linestyle=\"None\"` to remove lines, `marker=\"None\"` to remove the markers, etc."
   ]
  },
  {
   "cell_type": "code",
   "execution_count": null,
   "id": "9bd36b87",
   "metadata": {},
   "outputs": [],
   "source": [
    "fig = glp.plot_metric(glonass_data, \"iono_delay_m\", \"tropo_delay_m\", groupby=\"sv_id\",\n",
    "                  linestyle=\"None\", markeredgecolor=\"g\", markersize=12,\n",
    "                  markeredgewidth=1.0)"
   ]
  },
  {
   "cell_type": "markdown",
   "id": "d7ab5bbd",
   "metadata": {},
   "source": [
    "By default, the visualization tools do not save to file, but you can save them to file by setting the `save` flag to `True`. Check the [reference documentation](file:///home/derek/gnss_lib_py/docs/build/html/reference/utils/visualizations.html#visualizations.plot_metric) for full explanations. Setting `save=True` will default to saving in the `Results` folder, but exact locations can be specified with `fname`. "
   ]
  },
  {
   "cell_type": "markdown",
   "id": "b1b12b15",
   "metadata": {},
   "source": [
    "## Plot Metric by Constellation"
   ]
  },
  {
   "cell_type": "markdown",
   "id": "e55e745e",
   "metadata": {},
   "source": [
    "`plot_metric_by_constellation` is similar to `plot_metric` but it breaks up the data into separate figures by constellation and signal type. You need values for rows called `sv_id` and `signal_type` to use this function. We can quickly see that the raw pseudorange value is much more informative when we can separate by constellation and satellite!"
   ]
  },
  {
   "cell_type": "code",
   "execution_count": null,
   "id": "fb7a7062",
   "metadata": {},
   "outputs": [],
   "source": [
    "galileo_data = derived_data.where(\"gnss_id\",\"galileo\")\n",
    "fig = glp.plot_metric_by_constellation(galileo_data, \"gps_millis\", \"raw_pr_m\")"
   ]
  }
 ],
 "metadata": {
  "kernelspec": {
   "display_name": "Python 3 (ipykernel)",
   "language": "python",
   "name": "python3"
  },
  "language_info": {
   "codemirror_mode": {
    "name": "ipython",
    "version": 3
   },
   "file_extension": ".py",
   "mimetype": "text/x-python",
   "name": "python",
   "nbconvert_exporter": "python",
   "pygments_lexer": "ipython3",
   "version": "3.8.9"
  }
 },
 "nbformat": 4,
 "nbformat_minor": 5
}
