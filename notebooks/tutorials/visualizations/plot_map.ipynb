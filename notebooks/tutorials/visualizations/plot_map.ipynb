{
 "cells": [
  {
   "cell_type": "markdown",
   "id": "de1216b7-0dd0-4347-82ef-70ef24894508",
   "metadata": {},
   "source": [
    "# Plot Map"
   ]
  },
  {
   "cell_type": "markdown",
   "id": "3d5ad162",
   "metadata": {},
   "source": [
    "[![Open In Colab](https://colab.research.google.com/assets/colab-badge.svg)](https://colab.research.google.com/github/Stanford-NavLab/gnss_lib_py/blob/main/notebooks/tutorials/visualizations/plot_map.ipynb)"
   ]
  },
  {
   "cell_type": "code",
   "execution_count": null,
   "id": "cce0e69e",
   "metadata": {},
   "outputs": [],
   "source": [
    "import gnss_lib_py as glp\n",
    "\n",
    "# load Android Google Challenge data\n",
    "glp.make_dir(\"../data\")\n",
    "!wget https://raw.githubusercontent.com/Stanford-NavLab/gnss_lib_py/main/data/unit_test/google_decimeter_2021/Pixel4XL_derived.csv --quiet -nc -O \"../data/Pixel4XL_derived.csv\"\n",
    "derived_data = glp.AndroidDerived2021(\"../data/Pixel4XL_derived.csv\", remove_timing_outliers=False)"
   ]
  },
  {
   "cell_type": "markdown",
   "id": "f5065f2b-9773-483e-bdac-3b6f36f11090",
   "metadata": {},
   "source": [
    "**Note:** In this case, the example data is filtered to be seconds apart, in the regular\n",
    "setting, such measurements would be removed. To prevent this from happening,\n",
    "we set remove_timing_outliers to False here. For the full dataset, set this flag to True"
   ]
  },
  {
   "cell_type": "markdown",
   "id": "9f18ae5a",
   "metadata": {},
   "source": [
    "The `plot_map` function allows you to plot latitude and longitude rows of data on a map. The rows must match the standard naming style of `lat_*_deg` and `lon_*_deg` where `*` can be replaced with an arbitrary string."
   ]
  },
  {
   "cell_type": "code",
   "execution_count": null,
   "id": "7849bf4d",
   "metadata": {},
   "outputs": [],
   "source": [
    "state_estimate = glp.solve_wls(derived_data)\n",
    "fig = glp.plot_map(state_estimate)\n",
    "fig.show()"
   ]
  },
  {
   "cell_type": "markdown",
   "id": "287beec9",
   "metadata": {},
   "source": [
    "You can plot multiple data traces on the same graph as long as the `*` in the `lat_*_deg` and `lon_*_deg` fields is different for each data trace."
   ]
  },
  {
   "cell_type": "code",
   "execution_count": null,
   "id": "bd7fbb4b",
   "metadata": {},
   "outputs": [],
   "source": [
    "# load a separate data file\n",
    "glp.make_dir(\"../data\")\n",
    "!wget https://raw.githubusercontent.com/Stanford-NavLab/gnss_lib_py/main/data/unit_test/google_decimeter_2021/Pixel4_ground_truth.csv --quiet -nc -O \"../data/Pixel4_truth.csv\"\n",
    "truth_data_second_trace = glp.AndroidGroundTruth2021(\"../data/Pixel4_truth.csv\")\n",
    "\n",
    "fig = glp.plot_map(state_estimate, truth_data_second_trace)\n",
    "fig.show()"
   ]
  }
 ],
 "metadata": {
  "kernelspec": {
   "display_name": "Python 3 (ipykernel)",
   "language": "python",
   "name": "python3"
  },
  "language_info": {
   "codemirror_mode": {
    "name": "ipython",
    "version": 3
   },
   "file_extension": ".py",
   "mimetype": "text/x-python",
   "name": "python",
   "nbconvert_exporter": "python",
   "pygments_lexer": "ipython3",
   "version": "3.8.9"
  }
 },
 "nbformat": 4,
 "nbformat_minor": 5
}
