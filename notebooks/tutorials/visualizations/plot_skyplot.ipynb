{
 "cells": [
  {
   "cell_type": "markdown",
   "id": "49ad4ff3",
   "metadata": {},
   "source": [
    "# Plot Skyplot"
   ]
  },
  {
   "cell_type": "markdown",
   "id": "479d6c17",
   "metadata": {},
   "source": [
    "[![Open In Colab](https://colab.research.google.com/assets/colab-badge.svg)](https://colab.research.google.com/github/Stanford-NavLab/gnss_lib_py/blob/main/notebooks/tutorials/visualizations/plot_skyplot.ipynb)"
   ]
  },
  {
   "cell_type": "code",
   "execution_count": null,
   "id": "cce0e69e",
   "metadata": {},
   "outputs": [],
   "source": [
    "import gnss_lib_py as glp\n",
    "\n",
    "# load Android Google Challenge data\n",
    "glp.make_dir(\"../data\")\n",
    "!wget https://raw.githubusercontent.com/Stanford-NavLab/gnss_lib_py/main/data/unit_test/google_decimeter_2021/Pixel4XL_derived.csv --quiet -nc -O \"../data/Pixel4XL_derived.csv\"\n",
    "derived_data = glp.AndroidDerived2021(\"../data/Pixel4XL_derived.csv\", remove_timing_outliers=False)"
   ]
  },
  {
   "cell_type": "markdown",
   "id": "952766c1",
   "metadata": {},
   "source": [
    "**Note:** In this case, the example data is filtered to be seconds apart, in the regular\n",
    "setting, such measurements would be removed. To prevent this from happening,\n",
    "we set remove_timing_outliers to False here. For the full dataset, set this flag to True"
   ]
  },
  {
   "cell_type": "markdown",
   "id": "f3c75306",
   "metadata": {},
   "source": [
    "The `plot_skyplot` function plots the satellite skyplot using the satellite positions and estimate receiver position."
   ]
  },
  {
   "cell_type": "code",
   "execution_count": null,
   "id": "56a5e4c8",
   "metadata": {},
   "outputs": [],
   "source": [
    "state_estimate = glp.solve_wls(derived_data)\n",
    "\n",
    "fig = glp.plot_skyplot(derived_data, state_estimate)"
   ]
  }
 ],
 "metadata": {
  "kernelspec": {
   "display_name": "Python 3 (ipykernel)",
   "language": "python",
   "name": "python3"
  },
  "language_info": {
   "codemirror_mode": {
    "name": "ipython",
    "version": 3
   },
   "file_extension": ".py",
   "mimetype": "text/x-python",
   "name": "python",
   "nbconvert_exporter": "python",
   "pygments_lexer": "ipython3",
   "version": "3.8.9"
  }
 },
 "nbformat": 4,
 "nbformat_minor": 5
}
