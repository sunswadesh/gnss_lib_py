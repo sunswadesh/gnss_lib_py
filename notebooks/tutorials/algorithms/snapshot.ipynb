{
 "cells": [
  {
   "cell_type": "markdown",
   "id": "1c1399bb-63e0-41fc-b6ec-717cccdee270",
   "metadata": {},
   "source": [
    "# Snapshot Localization Algorithms"
   ]
  },
  {
   "cell_type": "markdown",
   "id": "e0764b23",
   "metadata": {},
   "source": [
    "[![Open In Colab](https://colab.research.google.com/assets/colab-badge.svg)](https://colab.research.google.com/github/Stanford-NavLab/gnss_lib_py/blob/main/notebooks/tutorials/algorithms/snapshot.ipynb)"
   ]
  },
  {
   "cell_type": "markdown",
   "id": "151c36e4-cad1-4d02-9292-d422d2339883",
   "metadata": {},
   "source": [
    "These tutorials demonstrate the snapshot localization algorithms available in ``gnss_lib_py``."
   ]
  },
  {
   "cell_type": "markdown",
   "id": "76ee7e5e",
   "metadata": {},
   "source": [
    "## Weighted Least Squares"
   ]
  },
  {
   "cell_type": "code",
   "execution_count": null,
   "id": "cce0e69e",
   "metadata": {},
   "outputs": [],
   "source": [
    "import gnss_lib_py as glp"
   ]
  },
  {
   "cell_type": "code",
   "execution_count": null,
   "id": "c335608f",
   "metadata": {},
   "outputs": [],
   "source": [
    "# load Android Google Challenge data\n",
    "glp.make_dir(\"../data\")\n",
    "!wget https://raw.githubusercontent.com/Stanford-NavLab/gnss_lib_py/main/data/unit_test/google_decimeter_2021/Pixel4XL_derived.csv --quiet -nc -O \"../data/Pixel4XL_derived.csv\"\n",
    "derived_data = glp.AndroidDerived2021(\"../data/Pixel4XL_derived.csv\", remove_timing_outliers=False)"
   ]
  },
  {
   "cell_type": "markdown",
   "id": "3bc6b5dd",
   "metadata": {},
   "source": [
    "Solve for the Weighted Least Squares position estimate simply by passing the measurement data.\n",
    "\n",
    "When obtaining WLS estimates for real measurements, the rotation of the Earth between the signal transmission and reception has to be accounted for.\n",
    "`solve_wls` accounts for this by default and rotates the given SV positions into the ECEF frame of reference when the signals were received rather using the ECEF frame of reference of when the signals were transmitted.\n",
    "\n",
    "If you assume that the satellite positions are given in the ECEF frame of reference when the signals were received (and not transmitted), set the parameter `sv_rx_time = True` in the function call."
   ]
  },
  {
   "cell_type": "code",
   "execution_count": null,
   "id": "8f557028",
   "metadata": {},
   "outputs": [],
   "source": [
    "state_wls = glp.solve_wls(derived_data)\n",
    "# When assuming that SV positions are given in the ECEF frame when signals are received use\n",
    "# state_wls = glp.solve_wls(derived_data, sv_rx_time=True)"
   ]
  },
  {
   "cell_type": "markdown",
   "id": "a9bffc6c",
   "metadata": {},
   "source": [
    "Plot the ECEF x and ECEF y computed position estimate of the receiver"
   ]
  },
  {
   "cell_type": "code",
   "execution_count": null,
   "id": "ace0ae60",
   "metadata": {},
   "outputs": [],
   "source": [
    "glp.plot_map(state_wls)"
   ]
  },
  {
   "cell_type": "markdown",
   "id": "1c4375ca-1fa5-4224-897c-c5194e4c3a16",
   "metadata": {},
   "source": [
    "## Custom Weighting Schemes for WLS\n",
    "\n",
    "You can utilize custom weights for each measurement by passing in a row name into the ``weight_type`` parameter."
   ]
  },
  {
   "cell_type": "code",
   "execution_count": null,
   "id": "ff2e61ea-2314-4454-aca9-2a51942a9b89",
   "metadata": {},
   "outputs": [],
   "source": [
    "# Morton, Y. Jade, et al., eds. Position, navigation, and timing technologies in\n",
    "# the 21st century: Integrated satellite navigation, sensor systems, and civil\n",
    "# applications, volume 1. John Wiley & Sons, 2021. Section 11.3.1.\n",
    "derived_data[\"weights\"] = 1./derived_data[\"raw_pr_sigma_m\"]**2\n",
    "\n",
    "state_wls_sigma = glp.solve_wls(derived_data,weight_type=\"weights\")\n",
    "\n",
    "state_wls_sigma.rename({\"lat_rx_wls_deg\":\"lat_rx_\" + \"sigma\" + \"_deg\",\n",
    "                        \"lon_rx_wls_deg\":\"lon_rx_\" + \"sigma\" + \"_deg\",\n",
    "                         \"alt_rx_wls_m\":\"alt_rx_\" + \"sigma\" + \"_m\",\n",
    "                         }, inplace=True)"
   ]
  },
  {
   "cell_type": "code",
   "execution_count": null,
   "id": "73899f19-c6e1-48f0-bae0-0ec2937ae9d9",
   "metadata": {},
   "outputs": [],
   "source": [
    "glp.plot_map(state_wls, state_wls_sigma)"
   ]
  },
  {
   "cell_type": "markdown",
   "id": "93f22095-33e2-4254-8c9e-7e4c7c64fefb",
   "metadata": {},
   "source": [
    "## Estimating Only Receiver Clock Bias with WLS\n",
    "\n",
    "If you only need to estimate the receiver clock bias, you can set the ``only_bias`` parameter to ``True`` and pass in the receiver position in with the ``receiver_state`` parameter."
   ]
  },
  {
   "cell_type": "code",
   "execution_count": null,
   "id": "0e9af5d0-f71d-47a4-9876-08c9d9b08da3",
   "metadata": {},
   "outputs": [],
   "source": [
    "state_with_clock_bias = glp.solve_wls(derived_data, only_bias=True, receiver_state=state_wls)"
   ]
  },
  {
   "cell_type": "code",
   "execution_count": null,
   "id": "644f0f01-b73d-4561-ba82-0f18fc5c31fb",
   "metadata": {},
   "outputs": [],
   "source": [
    "fig = glp.plot_metric(state_with_clock_bias,\"gps_millis\",\"b_rx_wls_m\")"
   ]
  }
 ],
 "metadata": {
  "kernelspec": {
   "display_name": "Python 3 (ipykernel)",
   "language": "python",
   "name": "python3"
  },
  "language_info": {
   "codemirror_mode": {
    "name": "ipython",
    "version": 3
   },
   "file_extension": ".py",
   "mimetype": "text/x-python",
   "name": "python",
   "nbconvert_exporter": "python",
   "pygments_lexer": "ipython3",
   "version": "3.8.9"
  },
  "vscode": {
   "interpreter": {
    "hash": "c7717b1dd2ec65abd747d44a25869d062db68d19263f8e701e26dddb0b153342"
   }
  }
 },
 "nbformat": 4,
 "nbformat_minor": 5
}
