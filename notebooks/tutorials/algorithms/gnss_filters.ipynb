{
 "cells": [
  {
   "cell_type": "markdown",
   "id": "28b068e2",
   "metadata": {},
   "source": [
    "# GNSS Filters"
   ]
  },
  {
   "cell_type": "markdown",
   "id": "8693ca9b",
   "metadata": {},
   "source": [
    "[![Open In Colab](https://colab.research.google.com/assets/colab-badge.svg)](https://colab.research.google.com/github/Stanford-NavLab/gnss_lib_py/blob/main/notebooks/tutorials/algorithms/gnss_filters.ipynb)"
   ]
  },
  {
   "cell_type": "code",
   "execution_count": null,
   "id": "60e040a3",
   "metadata": {},
   "outputs": [],
   "source": [
    "import gnss_lib_py as glp"
   ]
  },
  {
   "cell_type": "markdown",
   "id": "d50a7bf9-1eda-4365-9f2c-3185b9ce7ef5",
   "metadata": {},
   "source": [
    "## Extended Kalman Filter"
   ]
  },
  {
   "cell_type": "code",
   "execution_count": null,
   "id": "814228fe-5658-479d-82f8-1e2f872cf76e",
   "metadata": {},
   "outputs": [],
   "source": [
    "# load Android Google Challenge data\n",
    "glp.make_dir(\"../data\")\n",
    "!wget https://raw.githubusercontent.com/Stanford-NavLab/gnss_lib_py/main/data/unit_test/google_decimeter_2021/Pixel4XL_derived.csv --quiet -nc -O \"../data/Pixel4XL_derived.csv\"\n",
    "derived_data = glp.AndroidDerived2021(\"../data/Pixel4XL_derived.csv\", remove_timing_outliers=False)"
   ]
  },
  {
   "cell_type": "markdown",
   "id": "9089e51c-b9cc-4011-bdf6-056c1404965a",
   "metadata": {},
   "source": [
    "Solve for the extended Kalman filter position estimate simply by passing the measurement data."
   ]
  },
  {
   "cell_type": "code",
   "execution_count": null,
   "id": "1b0e30f0-8eec-41ed-9c7e-663a97ec1af1",
   "metadata": {},
   "outputs": [],
   "source": [
    "state_ekf = glp.solve_gnss_ekf(derived_data)"
   ]
  },
  {
   "cell_type": "markdown",
   "id": "9ea58ba3-c69b-4982-ba89-115b8e6909ad",
   "metadata": {},
   "source": [
    "Plot the ECEF x and ECEF y computed position estimate of the receiver"
   ]
  },
  {
   "cell_type": "code",
   "execution_count": null,
   "id": "c1a07fd5-8a51-4d3f-971f-a858f4f99f9e",
   "metadata": {},
   "outputs": [],
   "source": [
    "glp.plot_map(state_ekf)"
   ]
  }
 ],
 "metadata": {
  "kernelspec": {
   "display_name": "Python 3 (ipykernel)",
   "language": "python",
   "name": "python3"
  },
  "language_info": {
   "codemirror_mode": {
    "name": "ipython",
    "version": 3
   },
   "file_extension": ".py",
   "mimetype": "text/x-python",
   "name": "python",
   "nbconvert_exporter": "python",
   "pygments_lexer": "ipython3",
   "version": "3.8.9"
  },
  "vscode": {
   "interpreter": {
    "hash": "c7717b1dd2ec65abd747d44a25869d062db68d19263f8e701e26dddb0b153342"
   }
  }
 },
 "nbformat": 4,
 "nbformat_minor": 5
}
