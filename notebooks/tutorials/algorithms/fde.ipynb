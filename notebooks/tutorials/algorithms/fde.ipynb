{
 "cells": [
  {
   "cell_type": "markdown",
   "id": "76ee7e5e",
   "metadata": {},
   "source": [
    "# FDE: Fault Detection and Exclusion"
   ]
  },
  {
   "cell_type": "markdown",
   "id": "17e773d0",
   "metadata": {},
   "source": [
    "[![Open In Colab](https://colab.research.google.com/assets/colab-badge.svg)](https://colab.research.google.com/github/Stanford-NavLab/gnss_lib_py/blob/main/notebooks/tutorials/algorithms/fde.ipynb)"
   ]
  },
  {
   "cell_type": "markdown",
   "id": "2b7e92ce",
   "metadata": {},
   "source": [
    "This tutorial illustrates a few of the fault detection and exclusion capabilities from `algorithms/fde.py`."
   ]
  },
  {
   "cell_type": "code",
   "execution_count": null,
   "id": "cce0e69e",
   "metadata": {},
   "outputs": [],
   "source": [
    "import numpy as np\n",
    "import gnss_lib_py as glp\n",
    "\n",
    "# load Android Google Challenge data\n",
    "glp.make_dir(\"../data\")\n",
    "!wget https://raw.githubusercontent.com/Stanford-NavLab/gnss_lib_py/main/data/unit_test/google_decimeter_2022/device_gnss.csv --quiet -nc -O \"../data/device_gnss.csv\"\n",
    "navdata = glp.AndroidDerived2022(\"../data/device_gnss.csv\")"
   ]
  },
  {
   "cell_type": "markdown",
   "id": "e0888750",
   "metadata": {},
   "source": [
    "For this demonstration, we limit ourselves to the first time instance. This better shows when more faults are detected and how changing different hyperparameters changes each method's behaviour."
   ]
  },
  {
   "cell_type": "code",
   "execution_count": null,
   "id": "32531cac",
   "metadata": {},
   "outputs": [],
   "source": [
    "navdata = navdata.where('gps_millis', navdata['gps_millis', 0], 'eq')"
   ]
  },
  {
   "cell_type": "markdown",
   "id": "b9f9b91d-0a3f-49aa-b380-fb6d57639fe6",
   "metadata": {},
   "source": [
    "Several pre-built methods exist for performing fault detection and exclusion and can be accessed through the ``solve_fde()`` function."
   ]
  },
  {
   "cell_type": "markdown",
   "id": "0194ecce",
   "metadata": {},
   "source": [
    "## Greedy Euclidean Distance Matrix FDE"
   ]
  },
  {
   "cell_type": "markdown",
   "id": "067ad75b-d0ff-4a25-8d3b-85bf11634af6",
   "metadata": {},
   "source": [
    "The first method is based on \"Detection and Exclusion of Multiple Faults using Euclidean Distance Matrices\" by Derek Knowles and Grace Gao from the ION GNSS+ 2023 conference."
   ]
  },
  {
   "cell_type": "code",
   "execution_count": null,
   "id": "535130e8-c01c-4840-8939-666677ba51cb",
   "metadata": {},
   "outputs": [],
   "source": [
    "result = glp.solve_fde(navdata, method=\"edm\")"
   ]
  },
  {
   "cell_type": "markdown",
   "id": "f566b10b-fe33-4140-9e89-69b3c6eee64c",
   "metadata": {},
   "source": [
    "After this method runs, a new row is added called \"fault_edm\" which has a 0 if no fault is predicted, 1 if a fault is predicted, and 2 for an unknown fault status (usually due to lack of necessary columns or information)."
   ]
  },
  {
   "cell_type": "code",
   "execution_count": null,
   "id": "b775909a-ac85-4ce8-9fea-6f71cec3f19f",
   "metadata": {},
   "outputs": [],
   "source": [
    "result[\"fault_edm\"]"
   ]
  },
  {
   "cell_type": "markdown",
   "id": "9805d5a9-5138-4588-a0af-3e5649ecef36",
   "metadata": {},
   "source": [
    "You can change the ``threshold`` variable to be more or less sensitive based on false alarm or missed detection system requirements. Greedy EDM FDE has a range for the threshold between 0 and 1 since the detection statistic is normalized to 1. Note that if the threshold is set to the lower limit of zero, faults are detected until only four measurements remain at each timestep."
   ]
  },
  {
   "cell_type": "code",
   "execution_count": null,
   "id": "6a144355-2564-45ff-9155-a6a4da1d0755",
   "metadata": {},
   "outputs": [],
   "source": [
    "result = glp.solve_fde(navdata, method=\"edm\",\n",
    "                       threshold=0)\n",
    "result[\"fault_edm\"]"
   ]
  },
  {
   "cell_type": "markdown",
   "id": "1ed8aa60-6ce4-4ab8-bb35-4084277ba4de",
   "metadata": {},
   "source": [
    "The ``max_faults`` variable can be changed to apply a maximum number of faults detected at each timestep. In this example, the threshold is still set to zero, but we limit the faults removed with the ``max_faults`` variable."
   ]
  },
  {
   "cell_type": "code",
   "execution_count": null,
   "id": "c0f8efa0-8be1-49aa-b323-69aa16f5952b",
   "metadata": {},
   "outputs": [],
   "source": [
    "result = glp.solve_fde(navdata, method=\"edm\",\n",
    "                       threshold=0, max_faults=4)\n",
    "result[\"fault_edm\"]"
   ]
  },
  {
   "cell_type": "markdown",
   "id": "775035ec-8d48-4780-a45f-80c5766b465d",
   "metadata": {},
   "source": [
    "If the ``remove_outliers`` variable is set, then the outliers and unknown statuses will automatically be removed from the returned ``NavData`` object."
   ]
  },
  {
   "cell_type": "code",
   "execution_count": null,
   "id": "a09f05e2-9a13-4a7d-8ef2-935b66eb1f87",
   "metadata": {},
   "outputs": [],
   "source": [
    "result = glp.solve_fde(navdata, method=\"edm\",\n",
    "                       threshold=0, remove_outliers=True)\n",
    "result[\"fault_edm\"]"
   ]
  },
  {
   "cell_type": "markdown",
   "id": "6a8540d7-0652-4a1b-bdf0-d819db379e6d",
   "metadata": {},
   "source": [
    "## Greedy Residual FDE"
   ]
  },
  {
   "cell_type": "markdown",
   "id": "85df2e4f-0298-4cf6-8184-9cc13361bdfc",
   "metadata": {},
   "source": [
    "This FDE method is based on \"Fast multiple fault exclusion with a large number of measurements.\" by Juan Blanch, Todd Walter, and Per Enge from the ION GNSS+ 2015 conference."
   ]
  },
  {
   "cell_type": "code",
   "execution_count": null,
   "id": "9d03b637-9489-45a7-b908-334ad0012874",
   "metadata": {},
   "outputs": [],
   "source": [
    "result = glp.solve_fde(navdata, method=\"residual\")"
   ]
  },
  {
   "cell_type": "markdown",
   "id": "5c247a63-db03-4f45-b52a-ad7ede25e41f",
   "metadata": {},
   "source": [
    "After this method runs, a new row is added called \"fault_residual\" which has a 0 if no fault is predicted, 1 if a fault is predicted, and 2 for an unknown fault status (usually due to lack of necessary columns or information)."
   ]
  },
  {
   "cell_type": "code",
   "execution_count": null,
   "id": "ebc3467e-7594-405d-85d2-5742acaf82ca",
   "metadata": {},
   "outputs": [],
   "source": [
    "result[\"fault_residual\"]"
   ]
  },
  {
   "cell_type": "markdown",
   "id": "2ec33c02-d460-45eb-bdad-9f613461b63a",
   "metadata": {},
   "source": [
    "## Evaluate FDE"
   ]
  },
  {
   "cell_type": "markdown",
   "id": "0d62f70e-3081-459b-b681-63c65ed9ca03",
   "metadata": {},
   "source": [
    "The ``evaluate_fde()`` function can be used to create overall metrics on accuracy and timing based on a ground truth fault status row. The below example shows a comparison between the default parameters for greedy EDM and greedy residual FDE."
   ]
  },
  {
   "cell_type": "code",
   "execution_count": null,
   "id": "02263541-fa69-41d0-8834-2c7b1caacff8",
   "metadata": {},
   "outputs": [],
   "source": [
    "edm_metrics, _ = glp.evaluate_fde(navdata, method=\"edm\",\n",
    "                                  fault_truth_row=\"MultipathIndicator\",\n",
    "                                  time_fde=True)\n",
    "for key, value in edm_metrics.items():\n",
    "    print(key,\":\",value)"
   ]
  },
  {
   "cell_type": "code",
   "execution_count": null,
   "id": "bfcf48a7-efd7-4324-8446-9a70bf4e1b1b",
   "metadata": {},
   "outputs": [],
   "source": [
    "residual_metrics, _ = glp.evaluate_fde(navdata, method=\"residual\",\n",
    "                                       fault_truth_row=\"MultipathIndicator\",\n",
    "                                       time_fde=True)\n",
    "for key, value in residual_metrics.items():\n",
    "    print(key,\":\",value)"
   ]
  },
  {
   "cell_type": "markdown",
   "id": "cb756cd0-9382-4991-9ed0-3b41b7482841",
   "metadata": {},
   "source": [
    "You can also compare the two methods based on the time they take."
   ]
  },
  {
   "cell_type": "code",
   "execution_count": null,
   "id": "d59bd302-d610-4463-ad1f-ab16a8899f0b",
   "metadata": {},
   "outputs": [],
   "source": [
    "speed_increase = residual_metrics[\"timestep_mean_ms\"] - edm_metrics[\"timestep_mean_ms\"]\n",
    "print(f\"Greedy EDM is {np.round(speed_increase,1)} milliseconds faster than Greedy Residual on average!\")"
   ]
  }
 ],
 "metadata": {
  "kernelspec": {
   "display_name": "Python 3 (ipykernel)",
   "language": "python",
   "name": "python3"
  },
  "language_info": {
   "codemirror_mode": {
    "name": "ipython",
    "version": 3
   },
   "file_extension": ".py",
   "mimetype": "text/x-python",
   "name": "python",
   "nbconvert_exporter": "python",
   "pygments_lexer": "ipython3",
   "version": "3.8.9"
  }
 },
 "nbformat": 4,
 "nbformat_minor": 5
}
